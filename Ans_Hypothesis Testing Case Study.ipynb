{
 "cells": [
  {
   "cell_type": "code",
   "execution_count": 1,
   "id": "2b04818b",
   "metadata": {},
   "outputs": [],
   "source": [
    "import pandas as pd\n",
    "import numpy as np\n",
    "import matplotlib.pyplot as plt\n",
    "import seaborn as sns\n",
    "import scipy.stats as stats\n",
    "%matplotlib inline"
   ]
  },
  {
   "cell_type": "markdown",
   "id": "502b9574",
   "metadata": {},
   "source": [
    "# BUSINESS PROBLEM - 1"
   ]
  },
  {
   "cell_type": "code",
   "execution_count": 2,
   "id": "409e3058",
   "metadata": {},
   "outputs": [
    {
     "data": {
      "text/html": [
       "<div>\n",
       "<style scoped>\n",
       "    .dataframe tbody tr th:only-of-type {\n",
       "        vertical-align: middle;\n",
       "    }\n",
       "\n",
       "    .dataframe tbody tr th {\n",
       "        vertical-align: top;\n",
       "    }\n",
       "\n",
       "    .dataframe thead th {\n",
       "        text-align: right;\n",
       "    }\n",
       "</style>\n",
       "<table border=\"1\" class=\"dataframe\">\n",
       "  <thead>\n",
       "    <tr style=\"text-align: right;\">\n",
       "      <th></th>\n",
       "      <th>Amount.Requested</th>\n",
       "      <th>Amount.Funded.By.Investors</th>\n",
       "      <th>Interest.Rate</th>\n",
       "      <th>Loan.Length</th>\n",
       "      <th>Loan.Purpose</th>\n",
       "      <th>Debt.To.Income.Ratio</th>\n",
       "      <th>State</th>\n",
       "      <th>Home.Ownership</th>\n",
       "      <th>Monthly.Income</th>\n",
       "      <th>FICO.Range</th>\n",
       "      <th>Open.CREDIT.Lines</th>\n",
       "      <th>Revolving.CREDIT.Balance</th>\n",
       "      <th>Inquiries.in.the.Last.6.Months</th>\n",
       "      <th>Employment.Length</th>\n",
       "    </tr>\n",
       "  </thead>\n",
       "  <tbody>\n",
       "    <tr>\n",
       "      <th>0</th>\n",
       "      <td>20000.0</td>\n",
       "      <td>20000.0</td>\n",
       "      <td>8.90%</td>\n",
       "      <td>36 months</td>\n",
       "      <td>debt_consolidation</td>\n",
       "      <td>14.90%</td>\n",
       "      <td>SC</td>\n",
       "      <td>MORTGAGE</td>\n",
       "      <td>6541.67</td>\n",
       "      <td>735-739</td>\n",
       "      <td>14.0</td>\n",
       "      <td>14272.0</td>\n",
       "      <td>2.0</td>\n",
       "      <td>&lt; 1 year</td>\n",
       "    </tr>\n",
       "    <tr>\n",
       "      <th>1</th>\n",
       "      <td>19200.0</td>\n",
       "      <td>19200.0</td>\n",
       "      <td>12.12%</td>\n",
       "      <td>36 months</td>\n",
       "      <td>debt_consolidation</td>\n",
       "      <td>28.36%</td>\n",
       "      <td>TX</td>\n",
       "      <td>MORTGAGE</td>\n",
       "      <td>4583.33</td>\n",
       "      <td>715-719</td>\n",
       "      <td>12.0</td>\n",
       "      <td>11140.0</td>\n",
       "      <td>1.0</td>\n",
       "      <td>2 years</td>\n",
       "    </tr>\n",
       "    <tr>\n",
       "      <th>2</th>\n",
       "      <td>35000.0</td>\n",
       "      <td>35000.0</td>\n",
       "      <td>21.98%</td>\n",
       "      <td>60 months</td>\n",
       "      <td>debt_consolidation</td>\n",
       "      <td>23.81%</td>\n",
       "      <td>CA</td>\n",
       "      <td>MORTGAGE</td>\n",
       "      <td>11500.00</td>\n",
       "      <td>690-694</td>\n",
       "      <td>14.0</td>\n",
       "      <td>21977.0</td>\n",
       "      <td>1.0</td>\n",
       "      <td>2 years</td>\n",
       "    </tr>\n",
       "    <tr>\n",
       "      <th>3</th>\n",
       "      <td>10000.0</td>\n",
       "      <td>9975.0</td>\n",
       "      <td>9.99%</td>\n",
       "      <td>36 months</td>\n",
       "      <td>debt_consolidation</td>\n",
       "      <td>14.30%</td>\n",
       "      <td>KS</td>\n",
       "      <td>MORTGAGE</td>\n",
       "      <td>3833.33</td>\n",
       "      <td>695-699</td>\n",
       "      <td>10.0</td>\n",
       "      <td>9346.0</td>\n",
       "      <td>0.0</td>\n",
       "      <td>5 years</td>\n",
       "    </tr>\n",
       "    <tr>\n",
       "      <th>4</th>\n",
       "      <td>12000.0</td>\n",
       "      <td>12000.0</td>\n",
       "      <td>11.71%</td>\n",
       "      <td>36 months</td>\n",
       "      <td>credit_card</td>\n",
       "      <td>18.78%</td>\n",
       "      <td>NJ</td>\n",
       "      <td>RENT</td>\n",
       "      <td>3195.00</td>\n",
       "      <td>695-699</td>\n",
       "      <td>11.0</td>\n",
       "      <td>14469.0</td>\n",
       "      <td>0.0</td>\n",
       "      <td>9 years</td>\n",
       "    </tr>\n",
       "  </tbody>\n",
       "</table>\n",
       "</div>"
      ],
      "text/plain": [
       "   Amount.Requested  Amount.Funded.By.Investors Interest.Rate Loan.Length  \\\n",
       "0           20000.0                     20000.0         8.90%   36 months   \n",
       "1           19200.0                     19200.0        12.12%   36 months   \n",
       "2           35000.0                     35000.0        21.98%   60 months   \n",
       "3           10000.0                      9975.0         9.99%   36 months   \n",
       "4           12000.0                     12000.0        11.71%   36 months   \n",
       "\n",
       "         Loan.Purpose Debt.To.Income.Ratio State Home.Ownership  \\\n",
       "0  debt_consolidation               14.90%    SC       MORTGAGE   \n",
       "1  debt_consolidation               28.36%    TX       MORTGAGE   \n",
       "2  debt_consolidation               23.81%    CA       MORTGAGE   \n",
       "3  debt_consolidation               14.30%    KS       MORTGAGE   \n",
       "4         credit_card               18.78%    NJ           RENT   \n",
       "\n",
       "   Monthly.Income FICO.Range  Open.CREDIT.Lines  Revolving.CREDIT.Balance  \\\n",
       "0         6541.67    735-739               14.0                   14272.0   \n",
       "1         4583.33    715-719               12.0                   11140.0   \n",
       "2        11500.00    690-694               14.0                   21977.0   \n",
       "3         3833.33    695-699               10.0                    9346.0   \n",
       "4         3195.00    695-699               11.0                   14469.0   \n",
       "\n",
       "   Inquiries.in.the.Last.6.Months Employment.Length  \n",
       "0                             2.0          < 1 year  \n",
       "1                             1.0           2 years  \n",
       "2                             1.0           2 years  \n",
       "3                             0.0           5 years  \n",
       "4                             0.0           9 years  "
      ]
     },
     "execution_count": 2,
     "metadata": {},
     "output_type": "execute_result"
    }
   ],
   "source": [
    "Loans_data = pd.read_csv(r\"D:\\BA\\Python\\Basic Exercises\\Basic Statistics - Hypothesis Testing\\4. Basic Statistics - Hypothesis Testing\\LoansData.csv\")\n",
    "Loans_data.head()"
   ]
  },
  {
   "cell_type": "code",
   "execution_count": 3,
   "id": "bb0223e1",
   "metadata": {},
   "outputs": [
    {
     "name": "stderr",
     "output_type": "stream",
     "text": [
      "C:\\Users\\Ashutosh\\AppData\\Local\\Temp\\ipykernel_15428\\2255693045.py:1: FutureWarning: The default value of regex will change from True to False in a future version. In addition, single character regular expressions will *not* be treated as literal strings when regex=True.\n",
      "  Loans_data.columns=Loans_data.columns.str.replace('.','_')\n"
     ]
    },
    {
     "data": {
      "text/html": [
       "<div>\n",
       "<style scoped>\n",
       "    .dataframe tbody tr th:only-of-type {\n",
       "        vertical-align: middle;\n",
       "    }\n",
       "\n",
       "    .dataframe tbody tr th {\n",
       "        vertical-align: top;\n",
       "    }\n",
       "\n",
       "    .dataframe thead th {\n",
       "        text-align: right;\n",
       "    }\n",
       "</style>\n",
       "<table border=\"1\" class=\"dataframe\">\n",
       "  <thead>\n",
       "    <tr style=\"text-align: right;\">\n",
       "      <th></th>\n",
       "      <th>Amount_Requested</th>\n",
       "      <th>Amount_Funded_By_Investors</th>\n",
       "      <th>Interest_Rate</th>\n",
       "      <th>Loan_Length</th>\n",
       "      <th>Loan_Purpose</th>\n",
       "      <th>Debt_To_Income_Ratio</th>\n",
       "      <th>State</th>\n",
       "      <th>Home_Ownership</th>\n",
       "      <th>Monthly_Income</th>\n",
       "      <th>FICO_Range</th>\n",
       "      <th>Open_CREDIT_Lines</th>\n",
       "      <th>Revolving_CREDIT_Balance</th>\n",
       "      <th>Inquiries_in_the_Last_6_Months</th>\n",
       "      <th>Employment_Length</th>\n",
       "    </tr>\n",
       "  </thead>\n",
       "  <tbody>\n",
       "    <tr>\n",
       "      <th>0</th>\n",
       "      <td>20000.0</td>\n",
       "      <td>20000.0</td>\n",
       "      <td>8.90%</td>\n",
       "      <td>36 months</td>\n",
       "      <td>debt_consolidation</td>\n",
       "      <td>14.90%</td>\n",
       "      <td>SC</td>\n",
       "      <td>MORTGAGE</td>\n",
       "      <td>6541.67</td>\n",
       "      <td>735-739</td>\n",
       "      <td>14.0</td>\n",
       "      <td>14272.0</td>\n",
       "      <td>2.0</td>\n",
       "      <td>&lt; 1 year</td>\n",
       "    </tr>\n",
       "    <tr>\n",
       "      <th>1</th>\n",
       "      <td>19200.0</td>\n",
       "      <td>19200.0</td>\n",
       "      <td>12.12%</td>\n",
       "      <td>36 months</td>\n",
       "      <td>debt_consolidation</td>\n",
       "      <td>28.36%</td>\n",
       "      <td>TX</td>\n",
       "      <td>MORTGAGE</td>\n",
       "      <td>4583.33</td>\n",
       "      <td>715-719</td>\n",
       "      <td>12.0</td>\n",
       "      <td>11140.0</td>\n",
       "      <td>1.0</td>\n",
       "      <td>2 years</td>\n",
       "    </tr>\n",
       "    <tr>\n",
       "      <th>2</th>\n",
       "      <td>35000.0</td>\n",
       "      <td>35000.0</td>\n",
       "      <td>21.98%</td>\n",
       "      <td>60 months</td>\n",
       "      <td>debt_consolidation</td>\n",
       "      <td>23.81%</td>\n",
       "      <td>CA</td>\n",
       "      <td>MORTGAGE</td>\n",
       "      <td>11500.00</td>\n",
       "      <td>690-694</td>\n",
       "      <td>14.0</td>\n",
       "      <td>21977.0</td>\n",
       "      <td>1.0</td>\n",
       "      <td>2 years</td>\n",
       "    </tr>\n",
       "    <tr>\n",
       "      <th>3</th>\n",
       "      <td>10000.0</td>\n",
       "      <td>9975.0</td>\n",
       "      <td>9.99%</td>\n",
       "      <td>36 months</td>\n",
       "      <td>debt_consolidation</td>\n",
       "      <td>14.30%</td>\n",
       "      <td>KS</td>\n",
       "      <td>MORTGAGE</td>\n",
       "      <td>3833.33</td>\n",
       "      <td>695-699</td>\n",
       "      <td>10.0</td>\n",
       "      <td>9346.0</td>\n",
       "      <td>0.0</td>\n",
       "      <td>5 years</td>\n",
       "    </tr>\n",
       "    <tr>\n",
       "      <th>4</th>\n",
       "      <td>12000.0</td>\n",
       "      <td>12000.0</td>\n",
       "      <td>11.71%</td>\n",
       "      <td>36 months</td>\n",
       "      <td>credit_card</td>\n",
       "      <td>18.78%</td>\n",
       "      <td>NJ</td>\n",
       "      <td>RENT</td>\n",
       "      <td>3195.00</td>\n",
       "      <td>695-699</td>\n",
       "      <td>11.0</td>\n",
       "      <td>14469.0</td>\n",
       "      <td>0.0</td>\n",
       "      <td>9 years</td>\n",
       "    </tr>\n",
       "  </tbody>\n",
       "</table>\n",
       "</div>"
      ],
      "text/plain": [
       "   Amount_Requested  Amount_Funded_By_Investors Interest_Rate Loan_Length  \\\n",
       "0           20000.0                     20000.0         8.90%   36 months   \n",
       "1           19200.0                     19200.0        12.12%   36 months   \n",
       "2           35000.0                     35000.0        21.98%   60 months   \n",
       "3           10000.0                      9975.0         9.99%   36 months   \n",
       "4           12000.0                     12000.0        11.71%   36 months   \n",
       "\n",
       "         Loan_Purpose Debt_To_Income_Ratio State Home_Ownership  \\\n",
       "0  debt_consolidation               14.90%    SC       MORTGAGE   \n",
       "1  debt_consolidation               28.36%    TX       MORTGAGE   \n",
       "2  debt_consolidation               23.81%    CA       MORTGAGE   \n",
       "3  debt_consolidation               14.30%    KS       MORTGAGE   \n",
       "4         credit_card               18.78%    NJ           RENT   \n",
       "\n",
       "   Monthly_Income FICO_Range  Open_CREDIT_Lines  Revolving_CREDIT_Balance  \\\n",
       "0         6541.67    735-739               14.0                   14272.0   \n",
       "1         4583.33    715-719               12.0                   11140.0   \n",
       "2        11500.00    690-694               14.0                   21977.0   \n",
       "3         3833.33    695-699               10.0                    9346.0   \n",
       "4         3195.00    695-699               11.0                   14469.0   \n",
       "\n",
       "   Inquiries_in_the_Last_6_Months Employment_Length  \n",
       "0                             2.0          < 1 year  \n",
       "1                             1.0           2 years  \n",
       "2                             1.0           2 years  \n",
       "3                             0.0           5 years  \n",
       "4                             0.0           9 years  "
      ]
     },
     "execution_count": 3,
     "metadata": {},
     "output_type": "execute_result"
    }
   ],
   "source": [
    "Loans_data.columns=Loans_data.columns.str.replace('.','_')\n",
    "Loans_data.head()"
   ]
  },
  {
   "cell_type": "code",
   "execution_count": 4,
   "id": "969396fa",
   "metadata": {},
   "outputs": [
    {
     "name": "stdout",
     "output_type": "stream",
     "text": [
      "<class 'pandas.core.frame.DataFrame'>\n",
      "RangeIndex: 2500 entries, 0 to 2499\n",
      "Data columns (total 14 columns):\n",
      " #   Column                          Non-Null Count  Dtype  \n",
      "---  ------                          --------------  -----  \n",
      " 0   Amount_Requested                2499 non-null   float64\n",
      " 1   Amount_Funded_By_Investors      2499 non-null   float64\n",
      " 2   Interest_Rate                   2498 non-null   object \n",
      " 3   Loan_Length                     2500 non-null   object \n",
      " 4   Loan_Purpose                    2500 non-null   object \n",
      " 5   Debt_To_Income_Ratio            2499 non-null   object \n",
      " 6   State                           2500 non-null   object \n",
      " 7   Home_Ownership                  2499 non-null   object \n",
      " 8   Monthly_Income                  2499 non-null   float64\n",
      " 9   FICO_Range                      2498 non-null   object \n",
      " 10  Open_CREDIT_Lines               2497 non-null   float64\n",
      " 11  Revolving_CREDIT_Balance        2497 non-null   float64\n",
      " 12  Inquiries_in_the_Last_6_Months  2497 non-null   float64\n",
      " 13  Employment_Length               2423 non-null   object \n",
      "dtypes: float64(6), object(8)\n",
      "memory usage: 273.6+ KB\n"
     ]
    }
   ],
   "source": [
    "Loans_data.info()"
   ]
  },
  {
   "cell_type": "code",
   "execution_count": 5,
   "id": "95c7d8f9",
   "metadata": {},
   "outputs": [
    {
     "data": {
      "text/html": [
       "<div>\n",
       "<style scoped>\n",
       "    .dataframe tbody tr th:only-of-type {\n",
       "        vertical-align: middle;\n",
       "    }\n",
       "\n",
       "    .dataframe tbody tr th {\n",
       "        vertical-align: top;\n",
       "    }\n",
       "\n",
       "    .dataframe thead th {\n",
       "        text-align: right;\n",
       "    }\n",
       "</style>\n",
       "<table border=\"1\" class=\"dataframe\">\n",
       "  <thead>\n",
       "    <tr style=\"text-align: right;\">\n",
       "      <th></th>\n",
       "      <th>Amount_Requested</th>\n",
       "      <th>Amount_Funded_By_Investors</th>\n",
       "      <th>Interest_Rate</th>\n",
       "      <th>Loan_Length</th>\n",
       "      <th>Loan_Purpose</th>\n",
       "      <th>Debt_To_Income_Ratio</th>\n",
       "      <th>State</th>\n",
       "      <th>Home_Ownership</th>\n",
       "      <th>Monthly_Income</th>\n",
       "      <th>FICO_Range</th>\n",
       "      <th>Open_CREDIT_Lines</th>\n",
       "      <th>Revolving_CREDIT_Balance</th>\n",
       "      <th>Inquiries_in_the_Last_6_Months</th>\n",
       "      <th>Employment_Length</th>\n",
       "    </tr>\n",
       "  </thead>\n",
       "  <tbody>\n",
       "    <tr>\n",
       "      <th>0</th>\n",
       "      <td>20000.0</td>\n",
       "      <td>20000.0</td>\n",
       "      <td>8.90</td>\n",
       "      <td>36 months</td>\n",
       "      <td>debt_consolidation</td>\n",
       "      <td>14.90%</td>\n",
       "      <td>SC</td>\n",
       "      <td>MORTGAGE</td>\n",
       "      <td>6541.67</td>\n",
       "      <td>735-739</td>\n",
       "      <td>14.0</td>\n",
       "      <td>14272.0</td>\n",
       "      <td>2.0</td>\n",
       "      <td>&lt; 1 year</td>\n",
       "    </tr>\n",
       "    <tr>\n",
       "      <th>1</th>\n",
       "      <td>19200.0</td>\n",
       "      <td>19200.0</td>\n",
       "      <td>12.12</td>\n",
       "      <td>36 months</td>\n",
       "      <td>debt_consolidation</td>\n",
       "      <td>28.36%</td>\n",
       "      <td>TX</td>\n",
       "      <td>MORTGAGE</td>\n",
       "      <td>4583.33</td>\n",
       "      <td>715-719</td>\n",
       "      <td>12.0</td>\n",
       "      <td>11140.0</td>\n",
       "      <td>1.0</td>\n",
       "      <td>2 years</td>\n",
       "    </tr>\n",
       "    <tr>\n",
       "      <th>2</th>\n",
       "      <td>35000.0</td>\n",
       "      <td>35000.0</td>\n",
       "      <td>21.98</td>\n",
       "      <td>60 months</td>\n",
       "      <td>debt_consolidation</td>\n",
       "      <td>23.81%</td>\n",
       "      <td>CA</td>\n",
       "      <td>MORTGAGE</td>\n",
       "      <td>11500.00</td>\n",
       "      <td>690-694</td>\n",
       "      <td>14.0</td>\n",
       "      <td>21977.0</td>\n",
       "      <td>1.0</td>\n",
       "      <td>2 years</td>\n",
       "    </tr>\n",
       "    <tr>\n",
       "      <th>3</th>\n",
       "      <td>10000.0</td>\n",
       "      <td>9975.0</td>\n",
       "      <td>9.99</td>\n",
       "      <td>36 months</td>\n",
       "      <td>debt_consolidation</td>\n",
       "      <td>14.30%</td>\n",
       "      <td>KS</td>\n",
       "      <td>MORTGAGE</td>\n",
       "      <td>3833.33</td>\n",
       "      <td>695-699</td>\n",
       "      <td>10.0</td>\n",
       "      <td>9346.0</td>\n",
       "      <td>0.0</td>\n",
       "      <td>5 years</td>\n",
       "    </tr>\n",
       "    <tr>\n",
       "      <th>4</th>\n",
       "      <td>12000.0</td>\n",
       "      <td>12000.0</td>\n",
       "      <td>11.71</td>\n",
       "      <td>36 months</td>\n",
       "      <td>credit_card</td>\n",
       "      <td>18.78%</td>\n",
       "      <td>NJ</td>\n",
       "      <td>RENT</td>\n",
       "      <td>3195.00</td>\n",
       "      <td>695-699</td>\n",
       "      <td>11.0</td>\n",
       "      <td>14469.0</td>\n",
       "      <td>0.0</td>\n",
       "      <td>9 years</td>\n",
       "    </tr>\n",
       "  </tbody>\n",
       "</table>\n",
       "</div>"
      ],
      "text/plain": [
       "   Amount_Requested  Amount_Funded_By_Investors  Interest_Rate Loan_Length  \\\n",
       "0           20000.0                     20000.0           8.90   36 months   \n",
       "1           19200.0                     19200.0          12.12   36 months   \n",
       "2           35000.0                     35000.0          21.98   60 months   \n",
       "3           10000.0                      9975.0           9.99   36 months   \n",
       "4           12000.0                     12000.0          11.71   36 months   \n",
       "\n",
       "         Loan_Purpose Debt_To_Income_Ratio State Home_Ownership  \\\n",
       "0  debt_consolidation               14.90%    SC       MORTGAGE   \n",
       "1  debt_consolidation               28.36%    TX       MORTGAGE   \n",
       "2  debt_consolidation               23.81%    CA       MORTGAGE   \n",
       "3  debt_consolidation               14.30%    KS       MORTGAGE   \n",
       "4         credit_card               18.78%    NJ           RENT   \n",
       "\n",
       "   Monthly_Income FICO_Range  Open_CREDIT_Lines  Revolving_CREDIT_Balance  \\\n",
       "0         6541.67    735-739               14.0                   14272.0   \n",
       "1         4583.33    715-719               12.0                   11140.0   \n",
       "2        11500.00    690-694               14.0                   21977.0   \n",
       "3         3833.33    695-699               10.0                    9346.0   \n",
       "4         3195.00    695-699               11.0                   14469.0   \n",
       "\n",
       "   Inquiries_in_the_Last_6_Months Employment_Length  \n",
       "0                             2.0          < 1 year  \n",
       "1                             1.0           2 years  \n",
       "2                             1.0           2 years  \n",
       "3                             0.0           5 years  \n",
       "4                             0.0           9 years  "
      ]
     },
     "execution_count": 5,
     "metadata": {},
     "output_type": "execute_result"
    }
   ],
   "source": [
    "Loans_data[\"Interest_Rate\"] = pd.to_numeric(Loans_data['Interest_Rate'].str.replace(\"%\",\"\"),downcast='float')\n",
    "Loans_data.head()\n"
   ]
  },
  {
   "cell_type": "code",
   "execution_count": 6,
   "id": "063fec70",
   "metadata": {},
   "outputs": [
    {
     "data": {
      "text/html": [
       "<div>\n",
       "<style scoped>\n",
       "    .dataframe tbody tr th:only-of-type {\n",
       "        vertical-align: middle;\n",
       "    }\n",
       "\n",
       "    .dataframe tbody tr th {\n",
       "        vertical-align: top;\n",
       "    }\n",
       "\n",
       "    .dataframe thead th {\n",
       "        text-align: right;\n",
       "    }\n",
       "</style>\n",
       "<table border=\"1\" class=\"dataframe\">\n",
       "  <thead>\n",
       "    <tr style=\"text-align: right;\">\n",
       "      <th></th>\n",
       "      <th>Amount_Requested</th>\n",
       "      <th>Amount_Funded_By_Investors</th>\n",
       "      <th>Interest_Rate</th>\n",
       "      <th>Loan_Length</th>\n",
       "      <th>Loan_Purpose</th>\n",
       "      <th>Debt_To_Income_Ratio</th>\n",
       "      <th>State</th>\n",
       "      <th>Home_Ownership</th>\n",
       "      <th>Monthly_Income</th>\n",
       "      <th>FICO_Range</th>\n",
       "      <th>Open_CREDIT_Lines</th>\n",
       "      <th>Revolving_CREDIT_Balance</th>\n",
       "      <th>Inquiries_in_the_Last_6_Months</th>\n",
       "      <th>Employment_Length</th>\n",
       "    </tr>\n",
       "  </thead>\n",
       "  <tbody>\n",
       "    <tr>\n",
       "      <th>0</th>\n",
       "      <td>20000.0</td>\n",
       "      <td>20000.0</td>\n",
       "      <td>8.90</td>\n",
       "      <td>36</td>\n",
       "      <td>debt_consolidation</td>\n",
       "      <td>14.90%</td>\n",
       "      <td>SC</td>\n",
       "      <td>MORTGAGE</td>\n",
       "      <td>6541.67</td>\n",
       "      <td>735-739</td>\n",
       "      <td>14.0</td>\n",
       "      <td>14272.0</td>\n",
       "      <td>2.0</td>\n",
       "      <td>&lt; 1 year</td>\n",
       "    </tr>\n",
       "    <tr>\n",
       "      <th>1</th>\n",
       "      <td>19200.0</td>\n",
       "      <td>19200.0</td>\n",
       "      <td>12.12</td>\n",
       "      <td>36</td>\n",
       "      <td>debt_consolidation</td>\n",
       "      <td>28.36%</td>\n",
       "      <td>TX</td>\n",
       "      <td>MORTGAGE</td>\n",
       "      <td>4583.33</td>\n",
       "      <td>715-719</td>\n",
       "      <td>12.0</td>\n",
       "      <td>11140.0</td>\n",
       "      <td>1.0</td>\n",
       "      <td>2 years</td>\n",
       "    </tr>\n",
       "    <tr>\n",
       "      <th>2</th>\n",
       "      <td>35000.0</td>\n",
       "      <td>35000.0</td>\n",
       "      <td>21.98</td>\n",
       "      <td>60</td>\n",
       "      <td>debt_consolidation</td>\n",
       "      <td>23.81%</td>\n",
       "      <td>CA</td>\n",
       "      <td>MORTGAGE</td>\n",
       "      <td>11500.00</td>\n",
       "      <td>690-694</td>\n",
       "      <td>14.0</td>\n",
       "      <td>21977.0</td>\n",
       "      <td>1.0</td>\n",
       "      <td>2 years</td>\n",
       "    </tr>\n",
       "    <tr>\n",
       "      <th>3</th>\n",
       "      <td>10000.0</td>\n",
       "      <td>9975.0</td>\n",
       "      <td>9.99</td>\n",
       "      <td>36</td>\n",
       "      <td>debt_consolidation</td>\n",
       "      <td>14.30%</td>\n",
       "      <td>KS</td>\n",
       "      <td>MORTGAGE</td>\n",
       "      <td>3833.33</td>\n",
       "      <td>695-699</td>\n",
       "      <td>10.0</td>\n",
       "      <td>9346.0</td>\n",
       "      <td>0.0</td>\n",
       "      <td>5 years</td>\n",
       "    </tr>\n",
       "    <tr>\n",
       "      <th>4</th>\n",
       "      <td>12000.0</td>\n",
       "      <td>12000.0</td>\n",
       "      <td>11.71</td>\n",
       "      <td>36</td>\n",
       "      <td>credit_card</td>\n",
       "      <td>18.78%</td>\n",
       "      <td>NJ</td>\n",
       "      <td>RENT</td>\n",
       "      <td>3195.00</td>\n",
       "      <td>695-699</td>\n",
       "      <td>11.0</td>\n",
       "      <td>14469.0</td>\n",
       "      <td>0.0</td>\n",
       "      <td>9 years</td>\n",
       "    </tr>\n",
       "  </tbody>\n",
       "</table>\n",
       "</div>"
      ],
      "text/plain": [
       "   Amount_Requested  Amount_Funded_By_Investors  Interest_Rate  Loan_Length  \\\n",
       "0           20000.0                     20000.0           8.90           36   \n",
       "1           19200.0                     19200.0          12.12           36   \n",
       "2           35000.0                     35000.0          21.98           60   \n",
       "3           10000.0                      9975.0           9.99           36   \n",
       "4           12000.0                     12000.0          11.71           36   \n",
       "\n",
       "         Loan_Purpose Debt_To_Income_Ratio State Home_Ownership  \\\n",
       "0  debt_consolidation               14.90%    SC       MORTGAGE   \n",
       "1  debt_consolidation               28.36%    TX       MORTGAGE   \n",
       "2  debt_consolidation               23.81%    CA       MORTGAGE   \n",
       "3  debt_consolidation               14.30%    KS       MORTGAGE   \n",
       "4         credit_card               18.78%    NJ           RENT   \n",
       "\n",
       "   Monthly_Income FICO_Range  Open_CREDIT_Lines  Revolving_CREDIT_Balance  \\\n",
       "0         6541.67    735-739               14.0                   14272.0   \n",
       "1         4583.33    715-719               12.0                   11140.0   \n",
       "2        11500.00    690-694               14.0                   21977.0   \n",
       "3         3833.33    695-699               10.0                    9346.0   \n",
       "4         3195.00    695-699               11.0                   14469.0   \n",
       "\n",
       "   Inquiries_in_the_Last_6_Months Employment_Length  \n",
       "0                             2.0          < 1 year  \n",
       "1                             1.0           2 years  \n",
       "2                             1.0           2 years  \n",
       "3                             0.0           5 years  \n",
       "4                             0.0           9 years  "
      ]
     },
     "execution_count": 6,
     "metadata": {},
     "output_type": "execute_result"
    }
   ],
   "source": [
    "Loans_data[\"Loan_Length\"] = pd.to_numeric(Loans_data[\"Loan_Length\"].str.replace(\"months\",\"\"))\n",
    "Loans_data.head()"
   ]
  },
  {
   "cell_type": "code",
   "execution_count": 7,
   "id": "da18dff7",
   "metadata": {},
   "outputs": [
    {
     "data": {
      "text/plain": [
       "Amount_Requested                   1\n",
       "Amount_Funded_By_Investors         1\n",
       "Interest_Rate                      2\n",
       "Loan_Length                        0\n",
       "Loan_Purpose                       0\n",
       "Debt_To_Income_Ratio               1\n",
       "State                              0\n",
       "Home_Ownership                     1\n",
       "Monthly_Income                     1\n",
       "FICO_Range                         2\n",
       "Open_CREDIT_Lines                  3\n",
       "Revolving_CREDIT_Balance           3\n",
       "Inquiries_in_the_Last_6_Months     3\n",
       "Employment_Length                 77\n",
       "dtype: int64"
      ]
     },
     "execution_count": 7,
     "metadata": {},
     "output_type": "execute_result"
    }
   ],
   "source": [
    "Loans_data.isnull().sum()"
   ]
  },
  {
   "cell_type": "code",
   "execution_count": 8,
   "id": "45f8dd7f",
   "metadata": {},
   "outputs": [],
   "source": [
    "Loans_data.dropna(inplace=True)"
   ]
  },
  {
   "cell_type": "code",
   "execution_count": 9,
   "id": "f7b14b9f",
   "metadata": {},
   "outputs": [
    {
     "data": {
      "text/plain": [
       "Amount_Requested                  0\n",
       "Amount_Funded_By_Investors        0\n",
       "Interest_Rate                     0\n",
       "Loan_Length                       0\n",
       "Loan_Purpose                      0\n",
       "Debt_To_Income_Ratio              0\n",
       "State                             0\n",
       "Home_Ownership                    0\n",
       "Monthly_Income                    0\n",
       "FICO_Range                        0\n",
       "Open_CREDIT_Lines                 0\n",
       "Revolving_CREDIT_Balance          0\n",
       "Inquiries_in_the_Last_6_Months    0\n",
       "Employment_Length                 0\n",
       "dtype: int64"
      ]
     },
     "execution_count": 9,
     "metadata": {},
     "output_type": "execute_result"
    }
   ],
   "source": [
    "Loans_data.isnull().sum()"
   ]
  },
  {
   "cell_type": "code",
   "execution_count": 10,
   "id": "f35fdb69",
   "metadata": {},
   "outputs": [
    {
     "data": {
      "text/html": [
       "<div>\n",
       "<style scoped>\n",
       "    .dataframe tbody tr th:only-of-type {\n",
       "        vertical-align: middle;\n",
       "    }\n",
       "\n",
       "    .dataframe tbody tr th {\n",
       "        vertical-align: top;\n",
       "    }\n",
       "\n",
       "    .dataframe thead th {\n",
       "        text-align: right;\n",
       "    }\n",
       "</style>\n",
       "<table border=\"1\" class=\"dataframe\">\n",
       "  <thead>\n",
       "    <tr style=\"text-align: right;\">\n",
       "      <th></th>\n",
       "      <th>Amount_Requested</th>\n",
       "      <th>Amount_Funded_By_Investors</th>\n",
       "      <th>Interest_Rate</th>\n",
       "      <th>Loan_Length</th>\n",
       "      <th>Loan_Purpose</th>\n",
       "      <th>Debt_To_Income_Ratio</th>\n",
       "      <th>State</th>\n",
       "      <th>Home_Ownership</th>\n",
       "      <th>Monthly_Income</th>\n",
       "      <th>FICO_Range</th>\n",
       "      <th>Open_CREDIT_Lines</th>\n",
       "      <th>Revolving_CREDIT_Balance</th>\n",
       "      <th>Inquiries_in_the_Last_6_Months</th>\n",
       "      <th>Employment_Length</th>\n",
       "      <th>FICO_Score</th>\n",
       "    </tr>\n",
       "  </thead>\n",
       "  <tbody>\n",
       "    <tr>\n",
       "      <th>0</th>\n",
       "      <td>20000.0</td>\n",
       "      <td>20000.0</td>\n",
       "      <td>8.90</td>\n",
       "      <td>36</td>\n",
       "      <td>debt_consolidation</td>\n",
       "      <td>14.90%</td>\n",
       "      <td>SC</td>\n",
       "      <td>MORTGAGE</td>\n",
       "      <td>6541.67</td>\n",
       "      <td>735-739</td>\n",
       "      <td>14.0</td>\n",
       "      <td>14272.0</td>\n",
       "      <td>2.0</td>\n",
       "      <td>&lt; 1 year</td>\n",
       "      <td>1104.5</td>\n",
       "    </tr>\n",
       "    <tr>\n",
       "      <th>1</th>\n",
       "      <td>19200.0</td>\n",
       "      <td>19200.0</td>\n",
       "      <td>12.12</td>\n",
       "      <td>36</td>\n",
       "      <td>debt_consolidation</td>\n",
       "      <td>28.36%</td>\n",
       "      <td>TX</td>\n",
       "      <td>MORTGAGE</td>\n",
       "      <td>4583.33</td>\n",
       "      <td>715-719</td>\n",
       "      <td>12.0</td>\n",
       "      <td>11140.0</td>\n",
       "      <td>1.0</td>\n",
       "      <td>2 years</td>\n",
       "      <td>1074.5</td>\n",
       "    </tr>\n",
       "    <tr>\n",
       "      <th>2</th>\n",
       "      <td>35000.0</td>\n",
       "      <td>35000.0</td>\n",
       "      <td>21.98</td>\n",
       "      <td>60</td>\n",
       "      <td>debt_consolidation</td>\n",
       "      <td>23.81%</td>\n",
       "      <td>CA</td>\n",
       "      <td>MORTGAGE</td>\n",
       "      <td>11500.00</td>\n",
       "      <td>690-694</td>\n",
       "      <td>14.0</td>\n",
       "      <td>21977.0</td>\n",
       "      <td>1.0</td>\n",
       "      <td>2 years</td>\n",
       "      <td>1037.0</td>\n",
       "    </tr>\n",
       "    <tr>\n",
       "      <th>3</th>\n",
       "      <td>10000.0</td>\n",
       "      <td>9975.0</td>\n",
       "      <td>9.99</td>\n",
       "      <td>36</td>\n",
       "      <td>debt_consolidation</td>\n",
       "      <td>14.30%</td>\n",
       "      <td>KS</td>\n",
       "      <td>MORTGAGE</td>\n",
       "      <td>3833.33</td>\n",
       "      <td>695-699</td>\n",
       "      <td>10.0</td>\n",
       "      <td>9346.0</td>\n",
       "      <td>0.0</td>\n",
       "      <td>5 years</td>\n",
       "      <td>1044.5</td>\n",
       "    </tr>\n",
       "    <tr>\n",
       "      <th>4</th>\n",
       "      <td>12000.0</td>\n",
       "      <td>12000.0</td>\n",
       "      <td>11.71</td>\n",
       "      <td>36</td>\n",
       "      <td>credit_card</td>\n",
       "      <td>18.78%</td>\n",
       "      <td>NJ</td>\n",
       "      <td>RENT</td>\n",
       "      <td>3195.00</td>\n",
       "      <td>695-699</td>\n",
       "      <td>11.0</td>\n",
       "      <td>14469.0</td>\n",
       "      <td>0.0</td>\n",
       "      <td>9 years</td>\n",
       "      <td>1044.5</td>\n",
       "    </tr>\n",
       "  </tbody>\n",
       "</table>\n",
       "</div>"
      ],
      "text/plain": [
       "   Amount_Requested  Amount_Funded_By_Investors  Interest_Rate  Loan_Length  \\\n",
       "0           20000.0                     20000.0           8.90           36   \n",
       "1           19200.0                     19200.0          12.12           36   \n",
       "2           35000.0                     35000.0          21.98           60   \n",
       "3           10000.0                      9975.0           9.99           36   \n",
       "4           12000.0                     12000.0          11.71           36   \n",
       "\n",
       "         Loan_Purpose Debt_To_Income_Ratio State Home_Ownership  \\\n",
       "0  debt_consolidation               14.90%    SC       MORTGAGE   \n",
       "1  debt_consolidation               28.36%    TX       MORTGAGE   \n",
       "2  debt_consolidation               23.81%    CA       MORTGAGE   \n",
       "3  debt_consolidation               14.30%    KS       MORTGAGE   \n",
       "4         credit_card               18.78%    NJ           RENT   \n",
       "\n",
       "   Monthly_Income FICO_Range  Open_CREDIT_Lines  Revolving_CREDIT_Balance  \\\n",
       "0         6541.67    735-739               14.0                   14272.0   \n",
       "1         4583.33    715-719               12.0                   11140.0   \n",
       "2        11500.00    690-694               14.0                   21977.0   \n",
       "3         3833.33    695-699               10.0                    9346.0   \n",
       "4         3195.00    695-699               11.0                   14469.0   \n",
       "\n",
       "   Inquiries_in_the_Last_6_Months Employment_Length  FICO_Score  \n",
       "0                             2.0          < 1 year      1104.5  \n",
       "1                             1.0           2 years      1074.5  \n",
       "2                             1.0           2 years      1037.0  \n",
       "3                             0.0           5 years      1044.5  \n",
       "4                             0.0           9 years      1044.5  "
      ]
     },
     "execution_count": 10,
     "metadata": {},
     "output_type": "execute_result"
    }
   ],
   "source": [
    "Loans_data['FICO_Score']=(Loans_data['FICO_Range'].str[0:3].astype(int))+(Loans_data['FICO_Range'].str[4:].astype(int))/2\n",
    "Loans_data.head()"
   ]
  },
  {
   "cell_type": "code",
   "execution_count": 11,
   "id": "c41b5ae3",
   "metadata": {},
   "outputs": [
    {
     "name": "stdout",
     "output_type": "stream",
     "text": [
      "p0 =  588.5\n",
      "p100 =  102750.0\n",
      "p50 =  5000.0\n",
      "p25 =  3500.0\n",
      "p75 =  6833.33\n",
      "iqr =  3333.33\n",
      "lc =  -1499.995\n",
      "uc =  11833.325\n"
     ]
    }
   ],
   "source": [
    "p0 = Loans_data['Monthly_Income'].min() # min or p0\n",
    "p100 =Loans_data['Monthly_Income'].max() # max or p100\n",
    "p50 = Loans_data['Monthly_Income'].median() # median or p50\n",
    "p25 = Loans_data['Monthly_Income'].quantile(0.25)\n",
    "p75 = Loans_data['Monthly_Income'].quantile(0.75)\n",
    "iqr = p75 - p25\n",
    "lc = p25 - 1.5 * iqr\n",
    "uc = p75 + 1.5 * iqr\n",
    "print('p0 = ', p0)\n",
    "print('p100 = ', p100)\n",
    "print(\"p50 = \", p50)\n",
    "print(\"p25 = \", p25)\n",
    "print(\"p75 = \", p75)\n",
    "print(\"iqr = \", iqr)\n",
    "print(\"lc = \", lc)\n",
    "print(\"uc = \", uc)"
   ]
  },
  {
   "cell_type": "markdown",
   "id": "ae853be0",
   "metadata": {},
   "source": [
    "#### hence, we found one outlier on the uppercut."
   ]
  },
  {
   "cell_type": "code",
   "execution_count": 12,
   "id": "5128efa8",
   "metadata": {},
   "outputs": [
    {
     "data": {
      "text/plain": [
       "<AxesSubplot: >"
      ]
     },
     "execution_count": 12,
     "metadata": {},
     "output_type": "execute_result"
    },
    {
     "data": {
      "image/png": "[encoded data removed]",
      "text/plain": [
       "<Figure size 640x480 with 1 Axes>"
      ]
     },
     "metadata": {},
     "output_type": "display_data"
    }
   ],
   "source": [
    "Loans_data['Monthly_Income'].plot(kind = 'box')"
   ]
  },
  {
   "cell_type": "code",
   "execution_count": 13,
   "id": "9778ca98",
   "metadata": {},
   "outputs": [
    {
     "data": {
      "text/plain": [
       "0        6541.67\n",
       "1        4583.33\n",
       "2       11500.00\n",
       "3        3833.33\n",
       "4        3195.00\n",
       "          ...   \n",
       "2495     9250.00\n",
       "2496     8903.25\n",
       "2497     2166.67\n",
       "2498     3500.00\n",
       "2499     3875.00\n",
       "Name: Monthly_Income, Length: 2413, dtype: float64"
      ]
     },
     "execution_count": 13,
     "metadata": {},
     "output_type": "execute_result"
    }
   ],
   "source": [
    "Loans_data['Monthly_Income'].clip(upper = uc)"
   ]
  },
  {
   "cell_type": "code",
   "execution_count": 14,
   "id": "642e224b",
   "metadata": {},
   "outputs": [
    {
     "data": {
      "text/html": [
       "<div>\n",
       "<style scoped>\n",
       "    .dataframe tbody tr th:only-of-type {\n",
       "        vertical-align: middle;\n",
       "    }\n",
       "\n",
       "    .dataframe tbody tr th {\n",
       "        vertical-align: top;\n",
       "    }\n",
       "\n",
       "    .dataframe thead th {\n",
       "        text-align: right;\n",
       "    }\n",
       "</style>\n",
       "<table border=\"1\" class=\"dataframe\">\n",
       "  <thead>\n",
       "    <tr style=\"text-align: right;\">\n",
       "      <th></th>\n",
       "      <th>Amount_Requested</th>\n",
       "      <th>Amount_Funded_By_Investors</th>\n",
       "      <th>Interest_Rate</th>\n",
       "      <th>Loan_Length</th>\n",
       "      <th>Monthly_Income</th>\n",
       "      <th>Open_CREDIT_Lines</th>\n",
       "      <th>Revolving_CREDIT_Balance</th>\n",
       "      <th>Inquiries_in_the_Last_6_Months</th>\n",
       "      <th>FICO_Score</th>\n",
       "    </tr>\n",
       "  </thead>\n",
       "  <tbody>\n",
       "    <tr>\n",
       "      <th>count</th>\n",
       "      <td>2413.000000</td>\n",
       "      <td>2413.000000</td>\n",
       "      <td>2413.000000</td>\n",
       "      <td>2413.000000</td>\n",
       "      <td>2413.000000</td>\n",
       "      <td>2413.000000</td>\n",
       "      <td>2413.000000</td>\n",
       "      <td>2413.000000</td>\n",
       "      <td>2413.000000</td>\n",
       "    </tr>\n",
       "    <tr>\n",
       "      <th>mean</th>\n",
       "      <td>12491.556154</td>\n",
       "      <td>12074.038388</td>\n",
       "      <td>13.075591</td>\n",
       "      <td>41.341069</td>\n",
       "      <td>5735.767460</td>\n",
       "      <td>10.106092</td>\n",
       "      <td>15300.304600</td>\n",
       "      <td>0.905097</td>\n",
       "      <td>1060.892458</td>\n",
       "    </tr>\n",
       "    <tr>\n",
       "      <th>std</th>\n",
       "      <td>7783.902098</td>\n",
       "      <td>7727.846537</td>\n",
       "      <td>4.158533</td>\n",
       "      <td>9.984987</td>\n",
       "      <td>3993.949136</td>\n",
       "      <td>4.507909</td>\n",
       "      <td>18327.413575</td>\n",
       "      <td>1.236078</td>\n",
       "      <td>52.459300</td>\n",
       "    </tr>\n",
       "    <tr>\n",
       "      <th>min</th>\n",
       "      <td>1000.000000</td>\n",
       "      <td>-0.010000</td>\n",
       "      <td>5.420000</td>\n",
       "      <td>36.000000</td>\n",
       "      <td>588.500000</td>\n",
       "      <td>2.000000</td>\n",
       "      <td>0.000000</td>\n",
       "      <td>0.000000</td>\n",
       "      <td>962.000000</td>\n",
       "    </tr>\n",
       "    <tr>\n",
       "      <th>25%</th>\n",
       "      <td>6000.000000</td>\n",
       "      <td>6000.000000</td>\n",
       "      <td>10.160000</td>\n",
       "      <td>36.000000</td>\n",
       "      <td>3500.000000</td>\n",
       "      <td>7.000000</td>\n",
       "      <td>5613.000000</td>\n",
       "      <td>0.000000</td>\n",
       "      <td>1022.000000</td>\n",
       "    </tr>\n",
       "    <tr>\n",
       "      <th>50%</th>\n",
       "      <td>10000.000000</td>\n",
       "      <td>10000.000000</td>\n",
       "      <td>13.110000</td>\n",
       "      <td>36.000000</td>\n",
       "      <td>5000.000000</td>\n",
       "      <td>9.000000</td>\n",
       "      <td>11016.000000</td>\n",
       "      <td>0.000000</td>\n",
       "      <td>1052.000000</td>\n",
       "    </tr>\n",
       "    <tr>\n",
       "      <th>75%</th>\n",
       "      <td>17000.000000</td>\n",
       "      <td>16175.000000</td>\n",
       "      <td>15.800000</td>\n",
       "      <td>36.000000</td>\n",
       "      <td>6833.330000</td>\n",
       "      <td>13.000000</td>\n",
       "      <td>19036.000000</td>\n",
       "      <td>1.000000</td>\n",
       "      <td>1089.500000</td>\n",
       "    </tr>\n",
       "    <tr>\n",
       "      <th>max</th>\n",
       "      <td>35000.000000</td>\n",
       "      <td>35000.000000</td>\n",
       "      <td>24.889999</td>\n",
       "      <td>60.000000</td>\n",
       "      <td>102750.000000</td>\n",
       "      <td>38.000000</td>\n",
       "      <td>270800.000000</td>\n",
       "      <td>9.000000</td>\n",
       "      <td>1247.000000</td>\n",
       "    </tr>\n",
       "  </tbody>\n",
       "</table>\n",
       "</div>"
      ],
      "text/plain": [
       "       Amount_Requested  Amount_Funded_By_Investors  Interest_Rate  \\\n",
       "count       2413.000000                 2413.000000    2413.000000   \n",
       "mean       12491.556154                12074.038388      13.075591   \n",
       "std         7783.902098                 7727.846537       4.158533   \n",
       "min         1000.000000                   -0.010000       5.420000   \n",
       "25%         6000.000000                 6000.000000      10.160000   \n",
       "50%        10000.000000                10000.000000      13.110000   \n",
       "75%        17000.000000                16175.000000      15.800000   \n",
       "max        35000.000000                35000.000000      24.889999   \n",
       "\n",
       "       Loan_Length  Monthly_Income  Open_CREDIT_Lines  \\\n",
       "count  2413.000000     2413.000000        2413.000000   \n",
       "mean     41.341069     5735.767460          10.106092   \n",
       "std       9.984987     3993.949136           4.507909   \n",
       "min      36.000000      588.500000           2.000000   \n",
       "25%      36.000000     3500.000000           7.000000   \n",
       "50%      36.000000     5000.000000           9.000000   \n",
       "75%      36.000000     6833.330000          13.000000   \n",
       "max      60.000000   102750.000000          38.000000   \n",
       "\n",
       "       Revolving_CREDIT_Balance  Inquiries_in_the_Last_6_Months   FICO_Score  \n",
       "count               2413.000000                     2413.000000  2413.000000  \n",
       "mean               15300.304600                        0.905097  1060.892458  \n",
       "std                18327.413575                        1.236078    52.459300  \n",
       "min                    0.000000                        0.000000   962.000000  \n",
       "25%                 5613.000000                        0.000000  1022.000000  \n",
       "50%                11016.000000                        0.000000  1052.000000  \n",
       "75%                19036.000000                        1.000000  1089.500000  \n",
       "max               270800.000000                        9.000000  1247.000000  "
      ]
     },
     "execution_count": 14,
     "metadata": {},
     "output_type": "execute_result"
    }
   ],
   "source": [
    "Loans_data.describe()"
   ]
  },
  {
   "cell_type": "markdown",
   "id": "c5d5cca0",
   "metadata": {},
   "source": [
    "#### a. Intrest rate is varied for different loan amounts (Less intrest charged for high loan amounts)\n",
    "#### H0 : Intrest rate is not varied for different loan amounts\n",
    "#### H1 : Intrest rate is varied for different loan amounts\n",
    "#### pvalue = 0.05\n",
    "#### CI = 95%"
   ]
  },
  {
   "cell_type": "code",
   "execution_count": 15,
   "id": "da841611",
   "metadata": {},
   "outputs": [
    {
     "data": {
      "text/plain": [
       "PearsonRResult(statistic=0.3315955294370032, pvalue=5.064264557202981e-63)"
      ]
     },
     "execution_count": 15,
     "metadata": {},
     "output_type": "execute_result"
    }
   ],
   "source": [
    "stats.pearsonr(Loans_data['Interest_Rate'],Loans_data['Amount_Funded_By_Investors'])"
   ]
  },
  {
   "cell_type": "markdown",
   "id": "0fc84eaf",
   "metadata": {},
   "source": [
    "##### In this case the pvalue=5.064264557202981e-63 is near to pvalue, hence we reject the null hypothesis and accept the null hypothesis. So we can say that  Intrest rate is varied for different loan amounts."
   ]
  },
  {
   "cell_type": "markdown",
   "id": "a92e3d73",
   "metadata": {},
   "source": [
    "#### b. Loan length is directly effecting intrest rate.\n",
    "#### H0 : Loan length is directly not effecting intrest rate.\n",
    "#### H1 :Loan length is directly effecting intrest rate.\n",
    "#### pvalue = 0.05\n",
    "#### CI = 95%"
   ]
  },
  {
   "cell_type": "code",
   "execution_count": 16,
   "id": "32b48890",
   "metadata": {},
   "outputs": [
    {
     "data": {
      "text/plain": [
       "36    1876\n",
       "60     537\n",
       "Name: Loan_Length, dtype: int64"
      ]
     },
     "execution_count": 16,
     "metadata": {},
     "output_type": "execute_result"
    }
   ],
   "source": [
    "Loans_data['Loan_Length'].value_counts()"
   ]
  },
  {
   "cell_type": "code",
   "execution_count": 18,
   "id": "2e09096f",
   "metadata": {},
   "outputs": [
    {
     "data": {
      "text/plain": [
       "1206.5"
      ]
     },
     "execution_count": 18,
     "metadata": {},
     "output_type": "execute_result"
    }
   ],
   "source": [
    "Loans_data['Loan_Length'].value_counts().mean()"
   ]
  },
  {
   "cell_type": "code",
   "execution_count": 19,
   "id": "b2e8dcb6",
   "metadata": {},
   "outputs": [
    {
     "data": {
      "text/plain": [
       "0     8.90\n",
       "1    12.12\n",
       "3     9.99\n",
       "4    11.71\n",
       "5    15.31\n",
       "Name: Interest_Rate, dtype: float32"
      ]
     },
     "execution_count": 19,
     "metadata": {},
     "output_type": "execute_result"
    }
   ],
   "source": [
    "Lm_36 = Loans_data.query(\"Loan_Length == 36 \").Interest_Rate\n",
    "Lm_36.head()"
   ]
  },
  {
   "cell_type": "code",
   "execution_count": 20,
   "id": "50ce0abb",
   "metadata": {},
   "outputs": [
    {
     "data": {
      "text/plain": [
       "2     21.980000\n",
       "7     17.139999\n",
       "12    21.670000\n",
       "15    15.650000\n",
       "17    10.370000\n",
       "Name: Interest_Rate, dtype: float32"
      ]
     },
     "execution_count": 20,
     "metadata": {},
     "output_type": "execute_result"
    }
   ],
   "source": [
    "Lm_60 = Loans_data.query(\"Loan_Length == 60 \").Interest_Rate\n",
    "Lm_60.head()"
   ]
  },
  {
   "cell_type": "code",
   "execution_count": 21,
   "id": "2f31c223",
   "metadata": {},
   "outputs": [
    {
     "data": {
      "text/plain": [
       "Ttest_indResult(statistic=-23.05778833892161, pvalue=1.793968996984569e-106)"
      ]
     },
     "execution_count": 21,
     "metadata": {},
     "output_type": "execute_result"
    }
   ],
   "source": [
    "stats.ttest_ind(Lm_36,Lm_60)"
   ]
  },
  {
   "cell_type": "markdown",
   "id": "8d3f1a30",
   "metadata": {},
   "source": [
    "##### In the above case  pvalue=1.793968996984569e-106 which is less then pvalue so null hypothesis is rejected, hence we can say that Loan length is directly effecting intrest rate."
   ]
  },
  {
   "cell_type": "markdown",
   "id": "d94ce704",
   "metadata": {},
   "source": [
    "#### c. Inrest rate varies for different purpose of loans\n",
    "#### H0 : Inrest rate not varies for different purpose of loans\n",
    "#### H1 : Inrest rate varies for different purpose of loans\n",
    "#### pvalue = 0.05\n",
    "#### CI = 95%"
   ]
  },
  {
   "cell_type": "code",
   "execution_count": 22,
   "id": "2c196a83",
   "metadata": {},
   "outputs": [
    {
     "data": {
      "text/plain": [
       "debt_consolidation    1262\n",
       "credit_card            430\n",
       "other                  189\n",
       "home_improvement       147\n",
       "major_purchase         100\n",
       "small_business          83\n",
       "car                     50\n",
       "wedding                 37\n",
       "moving                  29\n",
       "medical                 28\n",
       "vacation                20\n",
       "house                   20\n",
       "educational             14\n",
       "renewable_energy         4\n",
       "Name: Loan_Purpose, dtype: int64"
      ]
     },
     "execution_count": 22,
     "metadata": {},
     "output_type": "execute_result"
    }
   ],
   "source": [
    "Loans_data.Loan_Purpose.value_counts()"
   ]
  },
  {
   "cell_type": "code",
   "execution_count": 23,
   "id": "e7084b38",
   "metadata": {},
   "outputs": [],
   "source": [
    "debt_consolidation=Loans_data.query('Loan_Purpose==\"debt_consolidation\"').Interest_Rate\n",
    "credit_card = Loans_data.query('Loan_Purpose==\"credit_card\"').Interest_Rate\n",
    "other = Loans_data.query('Loan_Purpose==\"other\"').Interest_Rate\n",
    "home_improvement = Loans_data.query('Loan_Purpose==\"home_improvement\"').Interest_Rate\n",
    "major_purchase = Loans_data.query('Loan_Purpose==\"major_purchase\"').Interest_Rate\n",
    "small_business = Loans_data.query('Loan_Purpose==\"small_business\"').Interest_Rate            \n",
    "car = Loans_data.query('Loan_Purpose==\"car\"').Interest_Rate\n",
    "wedding = Loans_data.query('Loan_Purpose==\"wedding\"').Interest_Rate\n",
    "medical = Loans_data.query('Loan_Purpose==\"medical\"').Interest_Rate\n",
    "moving = Loans_data.query('Loan_Purpose==\"moving\"').Interest_Rate\n",
    "vacation = Loans_data.query('Loan_Purpose==\"vacation\"').Interest_Rate\n",
    "house = Loans_data.query('Loan_Purpose==\"house\"').Interest_Rate\n",
    "educational = Loans_data.query('Loan_Purpose==\"educational\"').Interest_Rate\n",
    "renewable_energy = Loans_data.query('Loan_Purpose==\"renewable_energy\"').Interest_Rate "
   ]
  },
  {
   "cell_type": "code",
   "execution_count": 24,
   "id": "07c9e39e",
   "metadata": {},
   "outputs": [
    {
     "data": {
      "text/plain": [
       "F_onewayResult(statistic=7.33083815655656, pvalue=2.7646677084387417e-14)"
      ]
     },
     "execution_count": 24,
     "metadata": {},
     "output_type": "execute_result"
    }
   ],
   "source": [
    "stats.f_oneway(debt_consolidation,credit_card,other,home_improvement,major_purchase,small_business,car,wedding,medical,moving,vacation,house,educational,renewable_energy)"
   ]
  },
  {
   "cell_type": "markdown",
   "id": "0daa1520",
   "metadata": {},
   "source": [
    "##### new pvalue=2.7646677084387417e-14 which is less the pvalue, hence null hypothesis is rejected and alternative hypothesis is accepted, so we can say that Inrest rate varies for different purpose of loans. "
   ]
  },
  {
   "cell_type": "markdown",
   "id": "8fa127a2",
   "metadata": {},
   "source": [
    "#### d. There is relationship between FICO scores and Home Ownership. It means that, People with owning home will have high FICO scores.\n",
    "#### H0 : There is not any relationship between FICO scores and Home Ownership. \n",
    "#### H1 : There is relationship between FICO scores and Home Ownership. \n",
    "#### pvalue = 0.05\n",
    "#### CI = 95%"
   ]
  },
  {
   "cell_type": "code",
   "execution_count": 25,
   "id": "081e13a8",
   "metadata": {},
   "outputs": [
    {
     "data": {
      "text/plain": [
       "RENT        1110\n",
       "MORTGAGE    1109\n",
       "OWN          189\n",
       "OTHER          5\n",
       "Name: Home_Ownership, dtype: int64"
      ]
     },
     "execution_count": 25,
     "metadata": {},
     "output_type": "execute_result"
    }
   ],
   "source": [
    "Loans_data.Home_Ownership.value_counts()"
   ]
  },
  {
   "cell_type": "code",
   "execution_count": 26,
   "id": "a4686b41",
   "metadata": {},
   "outputs": [],
   "source": [
    "Rent = Loans_data.query(\"Home_Ownership == 'RENT'\").FICO_Score\n",
    "Mortgage = Loans_data.query(\"Home_Ownership == 'MORTGAGE'\").FICO_Score\n",
    "Own = Loans_data.query(\"Home_Ownership == 'OWN'\").FICO_Score\n",
    "Other = Loans_data.query(\"Home_Ownership == 'OTHER'\").FICO_Score\n"
   ]
  },
  {
   "cell_type": "code",
   "execution_count": 27,
   "id": "520f4f1f",
   "metadata": {},
   "outputs": [
    {
     "data": {
      "text/plain": [
       "F_onewayResult(statistic=20.654646652222116, pvalue=3.2682005447315283e-13)"
      ]
     },
     "execution_count": 27,
     "metadata": {},
     "output_type": "execute_result"
    }
   ],
   "source": [
    "stats.f_oneway(Rent, Mortgage, Own, Other)"
   ]
  },
  {
   "cell_type": "markdown",
   "id": "4bbcaa2f",
   "metadata": {},
   "source": [
    "##### new pvalue=3.2682005447315283e-13 which is less the pvalue, hence null hypothesis is rejected and alternative hypothesis is accepted, so we can say that There is relationship between FICO scores and Home Ownership. . "
   ]
  },
  {
   "cell_type": "code",
   "execution_count": null,
   "id": "119e60f4",
   "metadata": {},
   "outputs": [],
   "source": []
  },
  {
   "cell_type": "code",
   "execution_count": null,
   "id": "33c5bb6e",
   "metadata": {},
   "outputs": [],
   "source": []
  },
  {
   "cell_type": "markdown",
   "id": "6d82ffe6",
   "metadata": {},
   "source": [
    "## BUSINESS PROBLEM - 2"
   ]
  },
  {
   "cell_type": "code",
   "execution_count": 28,
   "id": "99710caa",
   "metadata": {},
   "outputs": [
    {
     "data": {
      "text/html": [
       "<div>\n",
       "<style scoped>\n",
       "    .dataframe tbody tr th:only-of-type {\n",
       "        vertical-align: middle;\n",
       "    }\n",
       "\n",
       "    .dataframe tbody tr th {\n",
       "        vertical-align: top;\n",
       "    }\n",
       "\n",
       "    .dataframe thead th {\n",
       "        text-align: right;\n",
       "    }\n",
       "</style>\n",
       "<table border=\"1\" class=\"dataframe\">\n",
       "  <thead>\n",
       "    <tr style=\"text-align: right;\">\n",
       "      <th></th>\n",
       "      <th>Order_Number</th>\n",
       "      <th>Barry_Price</th>\n",
       "      <th>Mary_Price</th>\n",
       "    </tr>\n",
       "  </thead>\n",
       "  <tbody>\n",
       "    <tr>\n",
       "      <th>0</th>\n",
       "      <td>1</td>\n",
       "      <td>126</td>\n",
       "      <td>114</td>\n",
       "    </tr>\n",
       "    <tr>\n",
       "      <th>1</th>\n",
       "      <td>2</td>\n",
       "      <td>110</td>\n",
       "      <td>118</td>\n",
       "    </tr>\n",
       "    <tr>\n",
       "      <th>2</th>\n",
       "      <td>3</td>\n",
       "      <td>138</td>\n",
       "      <td>114</td>\n",
       "    </tr>\n",
       "    <tr>\n",
       "      <th>3</th>\n",
       "      <td>4</td>\n",
       "      <td>142</td>\n",
       "      <td>111</td>\n",
       "    </tr>\n",
       "    <tr>\n",
       "      <th>4</th>\n",
       "      <td>5</td>\n",
       "      <td>146</td>\n",
       "      <td>129</td>\n",
       "    </tr>\n",
       "    <tr>\n",
       "      <th>5</th>\n",
       "      <td>6</td>\n",
       "      <td>136</td>\n",
       "      <td>119</td>\n",
       "    </tr>\n",
       "    <tr>\n",
       "      <th>6</th>\n",
       "      <td>7</td>\n",
       "      <td>94</td>\n",
       "      <td>97</td>\n",
       "    </tr>\n",
       "    <tr>\n",
       "      <th>7</th>\n",
       "      <td>8</td>\n",
       "      <td>103</td>\n",
       "      <td>104</td>\n",
       "    </tr>\n",
       "    <tr>\n",
       "      <th>8</th>\n",
       "      <td>9</td>\n",
       "      <td>140</td>\n",
       "      <td>127</td>\n",
       "    </tr>\n",
       "    <tr>\n",
       "      <th>9</th>\n",
       "      <td>10</td>\n",
       "      <td>152</td>\n",
       "      <td>133</td>\n",
       "    </tr>\n",
       "    <tr>\n",
       "      <th>10</th>\n",
       "      <td>11</td>\n",
       "      <td>108</td>\n",
       "      <td>103</td>\n",
       "    </tr>\n",
       "    <tr>\n",
       "      <th>11</th>\n",
       "      <td>12</td>\n",
       "      <td>97</td>\n",
       "      <td>108</td>\n",
       "    </tr>\n",
       "  </tbody>\n",
       "</table>\n",
       "</div>"
      ],
      "text/plain": [
       "    Order_Number  Barry_Price  Mary_Price\n",
       "0              1          126         114\n",
       "1              2          110         118\n",
       "2              3          138         114\n",
       "3              4          142         111\n",
       "4              5          146         129\n",
       "5              6          136         119\n",
       "6              7           94          97\n",
       "7              8          103         104\n",
       "8              9          140         127\n",
       "9             10          152         133\n",
       "10            11          108         103\n",
       "11            12           97         108"
      ]
     },
     "execution_count": 28,
     "metadata": {},
     "output_type": "execute_result"
    }
   ],
   "source": [
    "Price_Quotes = pd.read_csv(r\"D:\\BA\\Python\\Basic Exercises\\Basic Statistics - Hypothesis Testing\\4. Basic Statistics - Hypothesis Testing\\Price_Quotes.csv\")\n",
    "Price_Quotes"
   ]
  },
  {
   "cell_type": "code",
   "execution_count": 29,
   "id": "6fe07f73",
   "metadata": {},
   "outputs": [
    {
     "name": "stdout",
     "output_type": "stream",
     "text": [
      "<class 'pandas.core.frame.DataFrame'>\n",
      "RangeIndex: 12 entries, 0 to 11\n",
      "Data columns (total 3 columns):\n",
      " #   Column        Non-Null Count  Dtype\n",
      "---  ------        --------------  -----\n",
      " 0   Order_Number  12 non-null     int64\n",
      " 1   Barry_Price   12 non-null     int64\n",
      " 2   Mary_Price    12 non-null     int64\n",
      "dtypes: int64(3)\n",
      "memory usage: 416.0 bytes\n"
     ]
    }
   ],
   "source": [
    "Price_Quotes.info()"
   ]
  },
  {
   "cell_type": "markdown",
   "id": "c66ead30",
   "metadata": {},
   "source": [
    "#### There is any difference in the average price quotes provided by Mary and Barry.\n",
    "#### H0 : There is a difference in the average price quotes provided by Mary and Barry.\n",
    "#### H1 : There is not any difference in the average price quotes provided by Mary and Barry.. \n",
    "#### pvalue = 0.05\n",
    "#### CI = 95%"
   ]
  },
  {
   "cell_type": "code",
   "execution_count": 30,
   "id": "fb73b0e2",
   "metadata": {},
   "outputs": [
    {
     "data": {
      "text/plain": [
       "124.33333333333333"
      ]
     },
     "execution_count": 30,
     "metadata": {},
     "output_type": "execute_result"
    }
   ],
   "source": [
    "Price_Quotes.Barry_Price.mean()"
   ]
  },
  {
   "cell_type": "code",
   "execution_count": 31,
   "id": "7601721a",
   "metadata": {},
   "outputs": [
    {
     "data": {
      "text/plain": [
       "114.75"
      ]
     },
     "execution_count": 31,
     "metadata": {},
     "output_type": "execute_result"
    }
   ],
   "source": [
    "Price_Quotes.Mary_Price.mean()"
   ]
  },
  {
   "cell_type": "code",
   "execution_count": 32,
   "id": "26e2cee5",
   "metadata": {},
   "outputs": [
    {
     "data": {
      "text/plain": [
       "Ttest_indResult(statistic=1.4147436739281787, pvalue=0.17114226132118288)"
      ]
     },
     "execution_count": 32,
     "metadata": {},
     "output_type": "execute_result"
    }
   ],
   "source": [
    "stats.ttest_ind(Price_Quotes.Barry_Price,Price_Quotes.Mary_Price)"
   ]
  },
  {
   "cell_type": "markdown",
   "id": "9c265ac5",
   "metadata": {},
   "source": [
    "##### In the above case new pvalue=0.17114226132118288 which is greater than 0.05, we cannot reject null hypothesis. hence, we can not say that There is a difference in the average price quotes provided by Mary and Barry."
   ]
  },
  {
   "cell_type": "code",
   "execution_count": null,
   "id": "55470488",
   "metadata": {},
   "outputs": [],
   "source": []
  },
  {
   "cell_type": "code",
   "execution_count": null,
   "id": "b81063e0",
   "metadata": {},
   "outputs": [],
   "source": []
  },
  {
   "cell_type": "markdown",
   "id": "f37d7c2b",
   "metadata": {},
   "source": [
    "## BUSINESS PROBLEM - 3"
   ]
  },
  {
   "cell_type": "code",
   "execution_count": 33,
   "id": "fdff0e0c",
   "metadata": {},
   "outputs": [
    {
     "data": {
      "text/html": [
       "<div>\n",
       "<style scoped>\n",
       "    .dataframe tbody tr th:only-of-type {\n",
       "        vertical-align: middle;\n",
       "    }\n",
       "\n",
       "    .dataframe tbody tr th {\n",
       "        vertical-align: top;\n",
       "    }\n",
       "\n",
       "    .dataframe thead th {\n",
       "        text-align: right;\n",
       "    }\n",
       "</style>\n",
       "<table border=\"1\" class=\"dataframe\">\n",
       "  <thead>\n",
       "    <tr style=\"text-align: right;\">\n",
       "      <th></th>\n",
       "      <th>Month</th>\n",
       "      <th>Reengineer</th>\n",
       "      <th>Employee_Turnover</th>\n",
       "      <th>VAR4</th>\n",
       "      <th>VAR5</th>\n",
       "    </tr>\n",
       "  </thead>\n",
       "  <tbody>\n",
       "    <tr>\n",
       "      <th>0</th>\n",
       "      <td>1</td>\n",
       "      <td>Prior</td>\n",
       "      <td>0.0000</td>\n",
       "      <td>24.390244</td>\n",
       "      <td>42.682927</td>\n",
       "    </tr>\n",
       "    <tr>\n",
       "      <th>1</th>\n",
       "      <td>2</td>\n",
       "      <td>Prior</td>\n",
       "      <td>6.0606</td>\n",
       "      <td>19.354839</td>\n",
       "      <td>25.806452</td>\n",
       "    </tr>\n",
       "    <tr>\n",
       "      <th>2</th>\n",
       "      <td>3</td>\n",
       "      <td>Prior</td>\n",
       "      <td>12.1212</td>\n",
       "      <td>35.087719</td>\n",
       "      <td>146.198830</td>\n",
       "    </tr>\n",
       "    <tr>\n",
       "      <th>3</th>\n",
       "      <td>4</td>\n",
       "      <td>Prior</td>\n",
       "      <td>3.3333</td>\n",
       "      <td>18.404908</td>\n",
       "      <td>110.429448</td>\n",
       "    </tr>\n",
       "    <tr>\n",
       "      <th>4</th>\n",
       "      <td>5</td>\n",
       "      <td>Prior</td>\n",
       "      <td>12.9032</td>\n",
       "      <td>17.964072</td>\n",
       "      <td>23.952096</td>\n",
       "    </tr>\n",
       "  </tbody>\n",
       "</table>\n",
       "</div>"
      ],
      "text/plain": [
       "   Month Reengineer  Employee_Turnover       VAR4        VAR5\n",
       "0      1      Prior             0.0000  24.390244   42.682927\n",
       "1      2      Prior             6.0606  19.354839   25.806452\n",
       "2      3      Prior            12.1212  35.087719  146.198830\n",
       "3      4      Prior             3.3333  18.404908  110.429448\n",
       "4      5      Prior            12.9032  17.964072   23.952096"
      ]
     },
     "execution_count": 33,
     "metadata": {},
     "output_type": "execute_result"
    }
   ],
   "source": [
    "T_F =  pd.read_csv(r\"D:\\BA\\Python\\Basic Exercises\\Basic Statistics - Hypothesis Testing\\4. Basic Statistics - Hypothesis Testing\\Treatment_Facility.csv\")\n",
    "T_F.head()"
   ]
  },
  {
   "cell_type": "code",
   "execution_count": 34,
   "id": "b2b2df1b",
   "metadata": {},
   "outputs": [
    {
     "name": "stdout",
     "output_type": "stream",
     "text": [
      "<class 'pandas.core.frame.DataFrame'>\n",
      "RangeIndex: 20 entries, 0 to 19\n",
      "Data columns (total 5 columns):\n",
      " #   Column             Non-Null Count  Dtype  \n",
      "---  ------             --------------  -----  \n",
      " 0   Month              20 non-null     int64  \n",
      " 1   Reengineer         20 non-null     object \n",
      " 2   Employee_Turnover  20 non-null     float64\n",
      " 3   VAR4               20 non-null     float64\n",
      " 4   VAR5               20 non-null     float64\n",
      "dtypes: float64(3), int64(1), object(1)\n",
      "memory usage: 928.0+ bytes\n"
     ]
    }
   ],
   "source": [
    "T_F.info()"
   ]
  },
  {
   "cell_type": "code",
   "execution_count": 35,
   "id": "87075ca4",
   "metadata": {},
   "outputs": [
    {
     "data": {
      "text/html": [
       "<div>\n",
       "<style scoped>\n",
       "    .dataframe tbody tr th:only-of-type {\n",
       "        vertical-align: middle;\n",
       "    }\n",
       "\n",
       "    .dataframe tbody tr th {\n",
       "        vertical-align: top;\n",
       "    }\n",
       "\n",
       "    .dataframe thead th {\n",
       "        text-align: right;\n",
       "    }\n",
       "</style>\n",
       "<table border=\"1\" class=\"dataframe\">\n",
       "  <thead>\n",
       "    <tr style=\"text-align: right;\">\n",
       "      <th></th>\n",
       "      <th>Month</th>\n",
       "      <th>Reengineer</th>\n",
       "      <th>Employee_Turnover</th>\n",
       "      <th>TRFF</th>\n",
       "      <th>CI</th>\n",
       "    </tr>\n",
       "  </thead>\n",
       "  <tbody>\n",
       "    <tr>\n",
       "      <th>0</th>\n",
       "      <td>1</td>\n",
       "      <td>Prior</td>\n",
       "      <td>0.0000</td>\n",
       "      <td>24.390244</td>\n",
       "      <td>42.682927</td>\n",
       "    </tr>\n",
       "    <tr>\n",
       "      <th>1</th>\n",
       "      <td>2</td>\n",
       "      <td>Prior</td>\n",
       "      <td>6.0606</td>\n",
       "      <td>19.354839</td>\n",
       "      <td>25.806452</td>\n",
       "    </tr>\n",
       "    <tr>\n",
       "      <th>2</th>\n",
       "      <td>3</td>\n",
       "      <td>Prior</td>\n",
       "      <td>12.1212</td>\n",
       "      <td>35.087719</td>\n",
       "      <td>146.198830</td>\n",
       "    </tr>\n",
       "    <tr>\n",
       "      <th>3</th>\n",
       "      <td>4</td>\n",
       "      <td>Prior</td>\n",
       "      <td>3.3333</td>\n",
       "      <td>18.404908</td>\n",
       "      <td>110.429448</td>\n",
       "    </tr>\n",
       "    <tr>\n",
       "      <th>4</th>\n",
       "      <td>5</td>\n",
       "      <td>Prior</td>\n",
       "      <td>12.9032</td>\n",
       "      <td>17.964072</td>\n",
       "      <td>23.952096</td>\n",
       "    </tr>\n",
       "  </tbody>\n",
       "</table>\n",
       "</div>"
      ],
      "text/plain": [
       "   Month Reengineer  Employee_Turnover       TRFF          CI\n",
       "0      1      Prior             0.0000  24.390244   42.682927\n",
       "1      2      Prior             6.0606  19.354839   25.806452\n",
       "2      3      Prior            12.1212  35.087719  146.198830\n",
       "3      4      Prior             3.3333  18.404908  110.429448\n",
       "4      5      Prior            12.9032  17.964072   23.952096"
      ]
     },
     "execution_count": 35,
     "metadata": {},
     "output_type": "execute_result"
    }
   ],
   "source": [
    "Treat_fac = T_F.rename(columns = {'VAR4' : 'TRFF','VAR5' : 'CI'})\n",
    "Treat_fac.head()"
   ]
  },
  {
   "cell_type": "markdown",
   "id": "97f963ba",
   "metadata": {},
   "source": [
    "#### Determine what effect, if any, the reengineering effort had on the incidence behavioral problems and staff turnover. i.e To determine if the reengineering effort changed the critical incidence rate. Is there evidence that the critical incidence rate improved?"
   ]
  },
  {
   "cell_type": "markdown",
   "id": "5f083aba",
   "metadata": {},
   "source": [
    "#### Is there any effect in staff turnover\n",
    "#### H0 :  therei is no any effect in staff turnover\n",
    "#### H1 :   There is any effect in staff turnover\n",
    "#### pvalue : 0.5\n",
    "#### CI : 95%"
   ]
  },
  {
   "cell_type": "code",
   "execution_count": 36,
   "id": "7608c982",
   "metadata": {},
   "outputs": [],
   "source": [
    "Prior = Treat_fac.loc[Treat_fac.Reengineer == 'Prior', 'Employee_Turnover']\n",
    "Post = Treat_fac.loc[Treat_fac.Reengineer == 'Post', 'Employee_Turnover']"
   ]
  },
  {
   "cell_type": "code",
   "execution_count": 37,
   "id": "08693820",
   "metadata": {},
   "outputs": [
    {
     "data": {
      "text/plain": [
       "0      0.0000\n",
       "1      6.0606\n",
       "2     12.1212\n",
       "3      3.3333\n",
       "4     12.9032\n",
       "5      9.6774\n",
       "6     11.7647\n",
       "7     11.4286\n",
       "8     23.0769\n",
       "9     15.0000\n",
       "10    10.0000\n",
       "11    26.0870\n",
       "12    11.1111\n",
       "Name: Employee_Turnover, dtype: float64"
      ]
     },
     "execution_count": 37,
     "metadata": {},
     "output_type": "execute_result"
    }
   ],
   "source": [
    "Prior"
   ]
  },
  {
   "cell_type": "code",
   "execution_count": 38,
   "id": "fded0f86",
   "metadata": {},
   "outputs": [
    {
     "data": {
      "text/plain": [
       "13    26.6667\n",
       "14    17.9487\n",
       "15    12.8205\n",
       "16    15.7895\n",
       "17     0.0000\n",
       "18    30.7692\n",
       "19    26.8293\n",
       "Name: Employee_Turnover, dtype: float64"
      ]
     },
     "execution_count": 38,
     "metadata": {},
     "output_type": "execute_result"
    }
   ],
   "source": [
    "Post"
   ]
  },
  {
   "cell_type": "code",
   "execution_count": 39,
   "id": "b81179bf",
   "metadata": {},
   "outputs": [
    {
     "data": {
      "text/plain": [
       "Ttest_indResult(statistic=-1.770306704753604, pvalue=0.09361109345535304)"
      ]
     },
     "execution_count": 39,
     "metadata": {},
     "output_type": "execute_result"
    }
   ],
   "source": [
    "stats.ttest_ind(Prior,Post)"
   ]
  },
  {
   "cell_type": "markdown",
   "id": "c191c6e9",
   "metadata": {},
   "source": [
    "##### In the above case new pvalue=0.09361109345535304 which is greater than 0.05, we cannot reject null hypothesis. hence, we can not say that there is any effect in staff turnover¶ ."
   ]
  },
  {
   "cell_type": "markdown",
   "id": "79ba4877",
   "metadata": {},
   "source": [
    "#### The reengineering effort changed the critical incidence rate.\n",
    "#### H0 :The reengineering effort not changed the critical incidence rate.\n",
    "#### H1 : The reengineering effort changed the critical incidence rate.\n",
    "#### pvalue : 0.5\n",
    "#### CI : 95%"
   ]
  },
  {
   "cell_type": "code",
   "execution_count": 48,
   "id": "628bf532",
   "metadata": {},
   "outputs": [],
   "source": [
    "CI_Prior = Treat_fac.loc[Treat_fac.Reengineer=='Prior', 'CI']\n",
    "CI_Post = Treat_fac.loc[Treat_fac.Reengineer=='Post', 'CI']"
   ]
  },
  {
   "cell_type": "code",
   "execution_count": 47,
   "id": "9138b8ce",
   "metadata": {},
   "outputs": [
    {
     "data": {
      "text/plain": [
       "0      42.682927\n",
       "1      25.806452\n",
       "2     146.198830\n",
       "3     110.429448\n",
       "4      23.952096\n",
       "5      47.058824\n",
       "6       0.000000\n",
       "7      25.000000\n",
       "8     132.183908\n",
       "9      16.574586\n",
       "10     88.757396\n",
       "11     31.746032\n",
       "12     10.152284\n",
       "Name: CI, dtype: float64"
      ]
     },
     "execution_count": 47,
     "metadata": {},
     "output_type": "execute_result"
    }
   ],
   "source": [
    "CI_Prior"
   ]
  },
  {
   "cell_type": "code",
   "execution_count": 49,
   "id": "209a8b99",
   "metadata": {},
   "outputs": [
    {
     "data": {
      "text/plain": [
       "13    29.126214\n",
       "14    21.008403\n",
       "15    34.782609\n",
       "16    19.900498\n",
       "17     9.950249\n",
       "18    25.531915\n",
       "19    23.148148\n",
       "Name: CI, dtype: float64"
      ]
     },
     "execution_count": 49,
     "metadata": {},
     "output_type": "execute_result"
    }
   ],
   "source": [
    "CI_Post"
   ]
  },
  {
   "cell_type": "code",
   "execution_count": 50,
   "id": "86c6fe19",
   "metadata": {},
   "outputs": [
    {
     "data": {
      "text/plain": [
       "Ttest_indResult(statistic=1.627914425352865, pvalue=0.12091989189884148)"
      ]
     },
     "execution_count": 50,
     "metadata": {},
     "output_type": "execute_result"
    }
   ],
   "source": [
    "stats.ttest_ind(CI_Prior,CI_Post)"
   ]
  },
  {
   "cell_type": "markdown",
   "id": "587ccfb5",
   "metadata": {},
   "source": [
    "##### In the above case new pvalue = 0.12091989189884148 which is greater than 0.05, we cannot reject null hypothesis. hence, we can not say that The reengineering effort changed the critical incidence rate.."
   ]
  },
  {
   "cell_type": "code",
   "execution_count": null,
   "id": "676de491",
   "metadata": {},
   "outputs": [],
   "source": []
  },
  {
   "cell_type": "code",
   "execution_count": null,
   "id": "148f98e1",
   "metadata": {},
   "outputs": [],
   "source": []
  },
  {
   "cell_type": "markdown",
   "id": "effc5a4d",
   "metadata": {},
   "source": [
    "## BUSINESS PROBLEM - 4"
   ]
  },
  {
   "cell_type": "code",
   "execution_count": 51,
   "id": "6607a5eb",
   "metadata": {},
   "outputs": [
    {
     "data": {
      "text/html": [
       "<div>\n",
       "<style scoped>\n",
       "    .dataframe tbody tr th:only-of-type {\n",
       "        vertical-align: middle;\n",
       "    }\n",
       "\n",
       "    .dataframe tbody tr th {\n",
       "        vertical-align: top;\n",
       "    }\n",
       "\n",
       "    .dataframe thead th {\n",
       "        text-align: right;\n",
       "    }\n",
       "</style>\n",
       "<table border=\"1\" class=\"dataframe\">\n",
       "  <thead>\n",
       "    <tr style=\"text-align: right;\">\n",
       "      <th></th>\n",
       "      <th>Days</th>\n",
       "      <th>Priority</th>\n",
       "    </tr>\n",
       "  </thead>\n",
       "  <tbody>\n",
       "    <tr>\n",
       "      <th>0</th>\n",
       "      <td>3.3</td>\n",
       "      <td>High</td>\n",
       "    </tr>\n",
       "    <tr>\n",
       "      <th>1</th>\n",
       "      <td>7.9</td>\n",
       "      <td>Medium</td>\n",
       "    </tr>\n",
       "    <tr>\n",
       "      <th>2</th>\n",
       "      <td>0.3</td>\n",
       "      <td>High</td>\n",
       "    </tr>\n",
       "    <tr>\n",
       "      <th>3</th>\n",
       "      <td>0.7</td>\n",
       "      <td>Medium</td>\n",
       "    </tr>\n",
       "    <tr>\n",
       "      <th>4</th>\n",
       "      <td>8.6</td>\n",
       "      <td>Medium</td>\n",
       "    </tr>\n",
       "  </tbody>\n",
       "</table>\n",
       "</div>"
      ],
      "text/plain": [
       "   Days Priority\n",
       "0   3.3     High\n",
       "1   7.9   Medium\n",
       "2   0.3     High\n",
       "3   0.7   Medium\n",
       "4   8.6   Medium"
      ]
     },
     "execution_count": 51,
     "metadata": {},
     "output_type": "execute_result"
    }
   ],
   "source": [
    "PT_data =  pd.read_csv(r\"D:\\BA\\Python\\Basic Exercises\\Basic Statistics - Hypothesis Testing\\4. Basic Statistics - Hypothesis Testing\\Priority_Assessment.csv\")\n",
    "PT_data .head()"
   ]
  },
  {
   "cell_type": "code",
   "execution_count": 52,
   "id": "620fd732",
   "metadata": {},
   "outputs": [
    {
     "name": "stdout",
     "output_type": "stream",
     "text": [
      "<class 'pandas.core.frame.DataFrame'>\n",
      "RangeIndex: 642 entries, 0 to 641\n",
      "Data columns (total 2 columns):\n",
      " #   Column    Non-Null Count  Dtype  \n",
      "---  ------    --------------  -----  \n",
      " 0   Days      642 non-null    float64\n",
      " 1   Priority  642 non-null    object \n",
      "dtypes: float64(1), object(1)\n",
      "memory usage: 10.2+ KB\n"
     ]
    }
   ],
   "source": [
    "PT_data.info()"
   ]
  },
  {
   "cell_type": "markdown",
   "id": "84ad5c3c",
   "metadata": {},
   "source": [
    "#### If the system is working, then high priority jobs, on average, should be completed more quickly than medium priority jobs, and medium priority jobs should be completed more quickly than low priority jobs. \n",
    "#### H0 : Can't say\n",
    "#### H1 : Can say\n",
    "#### pvalue : 0.05\n",
    "#### CI : 95%"
   ]
  },
  {
   "cell_type": "code",
   "execution_count": 53,
   "id": "f275bad6",
   "metadata": {},
   "outputs": [],
   "source": [
    "High = PT_data.loc[PT_data.Priority == 'High', 'Days']\n",
    "Medium = PT_data.loc[PT_data.Priority == 'Medium', 'Days']\n",
    "Low = PT_data.loc[PT_data.Priority == 'Low', 'Days']"
   ]
  },
  {
   "cell_type": "code",
   "execution_count": 54,
   "id": "2314c225",
   "metadata": {},
   "outputs": [
    {
     "data": {
      "text/plain": [
       "0      3.3\n",
       "2      0.3\n",
       "5      0.3\n",
       "6      0.3\n",
       "7      0.3\n",
       "      ... \n",
       "631    0.3\n",
       "632    1.0\n",
       "635    0.1\n",
       "638    0.3\n",
       "641    0.5\n",
       "Name: Days, Length: 326, dtype: float64"
      ]
     },
     "execution_count": 54,
     "metadata": {},
     "output_type": "execute_result"
    }
   ],
   "source": [
    "High"
   ]
  },
  {
   "cell_type": "code",
   "execution_count": 55,
   "id": "dfdd6b97",
   "metadata": {},
   "outputs": [
    {
     "data": {
      "text/plain": [
       "1       7.9\n",
       "3       0.7\n",
       "4       8.6\n",
       "9      15.9\n",
       "11      0.3\n",
       "       ... \n",
       "633     2.0\n",
       "634     2.5\n",
       "636     0.1\n",
       "639     0.3\n",
       "640     1.3\n",
       "Name: Days, Length: 249, dtype: float64"
      ]
     },
     "execution_count": 55,
     "metadata": {},
     "output_type": "execute_result"
    }
   ],
   "source": [
    "Medium"
   ]
  },
  {
   "cell_type": "code",
   "execution_count": 56,
   "id": "c215ab5c",
   "metadata": {},
   "outputs": [
    {
     "data": {
      "text/plain": [
       "14     23.2\n",
       "15      5.3\n",
       "20      4.6\n",
       "23      1.8\n",
       "26     17.0\n",
       "       ... \n",
       "609     0.5\n",
       "613     7.9\n",
       "620     0.3\n",
       "622     0.1\n",
       "637     2.5\n",
       "Name: Days, Length: 67, dtype: float64"
      ]
     },
     "execution_count": 56,
     "metadata": {},
     "output_type": "execute_result"
    }
   ],
   "source": [
    "Low"
   ]
  },
  {
   "cell_type": "code",
   "execution_count": 57,
   "id": "375471b8",
   "metadata": {},
   "outputs": [
    {
     "data": {
      "text/plain": [
       "F_onewayResult(statistic=1.812311010076072, pvalue=0.16411459461716182)"
      ]
     },
     "execution_count": 57,
     "metadata": {},
     "output_type": "execute_result"
    }
   ],
   "source": [
    "stats.f_oneway(High, Medium, Low)"
   ]
  },
  {
   "cell_type": "markdown",
   "id": "7fdeeedb",
   "metadata": {},
   "source": [
    "##### In the above case new pvalue = 0.16411459461716182 which is greater than 0.05, we cannot reject null hypothesis. hence, we can not say that If the system is working, then high priority jobs, on average, should be completed more quickly than medium priority jobs, and medium priority jobs should be completed more quickly than low priority jobs.¶."
   ]
  },
  {
   "cell_type": "code",
   "execution_count": null,
   "id": "e35eae50",
   "metadata": {},
   "outputs": [],
   "source": []
  },
  {
   "cell_type": "code",
   "execution_count": null,
   "id": "0d87d0d4",
   "metadata": {},
   "outputs": [],
   "source": []
  },
  {
   "cell_type": "markdown",
   "id": "7b3729c7",
   "metadata": {},
   "source": [
    "## BUSINESS PROBLEM - 5"
   ]
  },
  {
   "cell_type": "code",
   "execution_count": 23,
   "id": "eb832178",
   "metadata": {},
   "outputs": [
    {
     "data": {
      "text/html": [
       "<div>\n",
       "<style scoped>\n",
       "    .dataframe tbody tr th:only-of-type {\n",
       "        vertical-align: middle;\n",
       "    }\n",
       "\n",
       "    .dataframe tbody tr th {\n",
       "        vertical-align: top;\n",
       "    }\n",
       "\n",
       "    .dataframe thead th {\n",
       "        text-align: right;\n",
       "    }\n",
       "</style>\n",
       "<table border=\"1\" class=\"dataframe\">\n",
       "  <thead>\n",
       "    <tr style=\"text-align: right;\">\n",
       "      <th></th>\n",
       "      <th>_rowstate_</th>\n",
       "      <th>Movie</th>\n",
       "      <th>Gender</th>\n",
       "      <th>Marital_Status</th>\n",
       "      <th>Sinage</th>\n",
       "      <th>Parking</th>\n",
       "      <th>Clean</th>\n",
       "      <th>Overall</th>\n",
       "      <th>Age</th>\n",
       "      <th>Income</th>\n",
       "      <th>Hear_About</th>\n",
       "    </tr>\n",
       "  </thead>\n",
       "  <tbody>\n",
       "    <tr>\n",
       "      <th>0</th>\n",
       "      <td>0</td>\n",
       "      <td>Ferris Buellers Day Off</td>\n",
       "      <td>Female</td>\n",
       "      <td>Married</td>\n",
       "      <td>2.0</td>\n",
       "      <td>2.0</td>\n",
       "      <td>2.0</td>\n",
       "      <td>2.0</td>\n",
       "      <td>3.0</td>\n",
       "      <td>1.0</td>\n",
       "      <td>5</td>\n",
       "    </tr>\n",
       "    <tr>\n",
       "      <th>1</th>\n",
       "      <td>0</td>\n",
       "      <td>Ferris Buellers Day Off</td>\n",
       "      <td>Female</td>\n",
       "      <td>Single</td>\n",
       "      <td>1.0</td>\n",
       "      <td>1.0</td>\n",
       "      <td>1.0</td>\n",
       "      <td>1.0</td>\n",
       "      <td>2.0</td>\n",
       "      <td>1.0</td>\n",
       "      <td>5</td>\n",
       "    </tr>\n",
       "    <tr>\n",
       "      <th>2</th>\n",
       "      <td>0</td>\n",
       "      <td>Ferris Buellers Day Off</td>\n",
       "      <td>Male</td>\n",
       "      <td>Married</td>\n",
       "      <td>2.0</td>\n",
       "      <td>4.0</td>\n",
       "      <td>3.0</td>\n",
       "      <td>2.0</td>\n",
       "      <td>4.0</td>\n",
       "      <td>1.0</td>\n",
       "      <td>5</td>\n",
       "    </tr>\n",
       "    <tr>\n",
       "      <th>3</th>\n",
       "      <td>0</td>\n",
       "      <td>Ferris Buellers Day Off</td>\n",
       "      <td>Female</td>\n",
       "      <td>Married</td>\n",
       "      <td>1.0</td>\n",
       "      <td>3.0</td>\n",
       "      <td>2.0</td>\n",
       "      <td>2.0</td>\n",
       "      <td>4.0</td>\n",
       "      <td>1.0</td>\n",
       "      <td>5</td>\n",
       "    </tr>\n",
       "    <tr>\n",
       "      <th>4</th>\n",
       "      <td>0</td>\n",
       "      <td>Ferris Buellers Day Off</td>\n",
       "      <td>Female</td>\n",
       "      <td>Married</td>\n",
       "      <td>1.0</td>\n",
       "      <td>1.0</td>\n",
       "      <td>1.0</td>\n",
       "      <td>1.0</td>\n",
       "      <td>3.0</td>\n",
       "      <td>3.0</td>\n",
       "      <td>1</td>\n",
       "    </tr>\n",
       "  </tbody>\n",
       "</table>\n",
       "</div>"
      ],
      "text/plain": [
       "   _rowstate_                    Movie  Gender Marital_Status  Sinage  \\\n",
       "0           0  Ferris Buellers Day Off  Female        Married     2.0   \n",
       "1           0  Ferris Buellers Day Off  Female         Single     1.0   \n",
       "2           0  Ferris Buellers Day Off    Male        Married     2.0   \n",
       "3           0  Ferris Buellers Day Off  Female        Married     1.0   \n",
       "4           0  Ferris Buellers Day Off  Female        Married     1.0   \n",
       "\n",
       "   Parking  Clean  Overall  Age  Income Hear_About  \n",
       "0      2.0    2.0      2.0  3.0     1.0          5  \n",
       "1      1.0    1.0      1.0  2.0     1.0          5  \n",
       "2      4.0    3.0      2.0  4.0     1.0          5  \n",
       "3      3.0    2.0      2.0  4.0     1.0          5  \n",
       "4      1.0    1.0      1.0  3.0     3.0          1  "
      ]
     },
     "execution_count": 23,
     "metadata": {},
     "output_type": "execute_result"
    }
   ],
   "source": [
    "Films =  pd.read_csv(r\"D:\\BA\\Python\\Basic Exercises\\Basic Statistics - Hypothesis Testing\\4. Basic Statistics - Hypothesis Testing\\Films.csv\")\n",
    "Films.head()"
   ]
  },
  {
   "cell_type": "code",
   "execution_count": 24,
   "id": "df7599ca",
   "metadata": {},
   "outputs": [
    {
     "name": "stdout",
     "output_type": "stream",
     "text": [
      "<class 'pandas.core.frame.DataFrame'>\n",
      "RangeIndex: 330 entries, 0 to 329\n",
      "Data columns (total 11 columns):\n",
      " #   Column          Non-Null Count  Dtype  \n",
      "---  ------          --------------  -----  \n",
      " 0   _rowstate_      330 non-null    int64  \n",
      " 1   Movie           330 non-null    object \n",
      " 2   Gender          330 non-null    object \n",
      " 3   Marital_Status  328 non-null    object \n",
      " 4   Sinage          328 non-null    float64\n",
      " 5   Parking         328 non-null    float64\n",
      " 6   Clean           327 non-null    float64\n",
      " 7   Overall         328 non-null    float64\n",
      " 8   Age             328 non-null    float64\n",
      " 9   Income          314 non-null    float64\n",
      " 10  Hear_About      323 non-null    object \n",
      "dtypes: float64(6), int64(1), object(4)\n",
      "memory usage: 28.5+ KB\n"
     ]
    }
   ],
   "source": [
    "Films.info()"
   ]
  },
  {
   "cell_type": "code",
   "execution_count": 25,
   "id": "1faa3cd4",
   "metadata": {},
   "outputs": [
    {
     "data": {
      "text/plain": [
       "_rowstate_         0\n",
       "Movie              0\n",
       "Gender             0\n",
       "Marital_Status     2\n",
       "Sinage             2\n",
       "Parking            2\n",
       "Clean              3\n",
       "Overall            2\n",
       "Age                2\n",
       "Income            16\n",
       "Hear_About         7\n",
       "dtype: int64"
      ]
     },
     "execution_count": 25,
     "metadata": {},
     "output_type": "execute_result"
    }
   ],
   "source": [
    "Films.isnull().sum()"
   ]
  },
  {
   "cell_type": "code",
   "execution_count": 26,
   "id": "c6b10af2",
   "metadata": {},
   "outputs": [
    {
     "data": {
      "text/plain": [
       "2         194\n",
       "1         104\n",
       "Female     19\n",
       "Male       13\n",
       "Name: Gender, dtype: int64"
      ]
     },
     "execution_count": 26,
     "metadata": {},
     "output_type": "execute_result"
    }
   ],
   "source": [
    "Films.Gender.value_counts()"
   ]
  },
  {
   "cell_type": "code",
   "execution_count": 30,
   "id": "9a7793a1",
   "metadata": {},
   "outputs": [
    {
     "data": {
      "text/html": [
       "<div>\n",
       "<style scoped>\n",
       "    .dataframe tbody tr th:only-of-type {\n",
       "        vertical-align: middle;\n",
       "    }\n",
       "\n",
       "    .dataframe tbody tr th {\n",
       "        vertical-align: top;\n",
       "    }\n",
       "\n",
       "    .dataframe thead th {\n",
       "        text-align: right;\n",
       "    }\n",
       "</style>\n",
       "<table border=\"1\" class=\"dataframe\">\n",
       "  <thead>\n",
       "    <tr style=\"text-align: right;\">\n",
       "      <th></th>\n",
       "      <th>_rowstate_</th>\n",
       "      <th>Movie</th>\n",
       "      <th>Gender</th>\n",
       "      <th>Marital_Status</th>\n",
       "      <th>Sinage</th>\n",
       "      <th>Parking</th>\n",
       "      <th>Clean</th>\n",
       "      <th>Overall</th>\n",
       "      <th>Age</th>\n",
       "      <th>Income</th>\n",
       "      <th>Hear_About</th>\n",
       "    </tr>\n",
       "  </thead>\n",
       "  <tbody>\n",
       "    <tr>\n",
       "      <th>0</th>\n",
       "      <td>0</td>\n",
       "      <td>Ferris Buellers Day Off</td>\n",
       "      <td>Female</td>\n",
       "      <td>Married</td>\n",
       "      <td>2.0</td>\n",
       "      <td>2.0</td>\n",
       "      <td>2.0</td>\n",
       "      <td>2.0</td>\n",
       "      <td>3.0</td>\n",
       "      <td>1.0</td>\n",
       "      <td>5</td>\n",
       "    </tr>\n",
       "    <tr>\n",
       "      <th>1</th>\n",
       "      <td>0</td>\n",
       "      <td>Ferris Buellers Day Off</td>\n",
       "      <td>Female</td>\n",
       "      <td>Single</td>\n",
       "      <td>1.0</td>\n",
       "      <td>1.0</td>\n",
       "      <td>1.0</td>\n",
       "      <td>1.0</td>\n",
       "      <td>2.0</td>\n",
       "      <td>1.0</td>\n",
       "      <td>5</td>\n",
       "    </tr>\n",
       "    <tr>\n",
       "      <th>2</th>\n",
       "      <td>0</td>\n",
       "      <td>Ferris Buellers Day Off</td>\n",
       "      <td>Male</td>\n",
       "      <td>Married</td>\n",
       "      <td>2.0</td>\n",
       "      <td>4.0</td>\n",
       "      <td>3.0</td>\n",
       "      <td>2.0</td>\n",
       "      <td>4.0</td>\n",
       "      <td>1.0</td>\n",
       "      <td>5</td>\n",
       "    </tr>\n",
       "    <tr>\n",
       "      <th>3</th>\n",
       "      <td>0</td>\n",
       "      <td>Ferris Buellers Day Off</td>\n",
       "      <td>Female</td>\n",
       "      <td>Married</td>\n",
       "      <td>1.0</td>\n",
       "      <td>3.0</td>\n",
       "      <td>2.0</td>\n",
       "      <td>2.0</td>\n",
       "      <td>4.0</td>\n",
       "      <td>1.0</td>\n",
       "      <td>5</td>\n",
       "    </tr>\n",
       "    <tr>\n",
       "      <th>4</th>\n",
       "      <td>0</td>\n",
       "      <td>Ferris Buellers Day Off</td>\n",
       "      <td>Female</td>\n",
       "      <td>Married</td>\n",
       "      <td>1.0</td>\n",
       "      <td>1.0</td>\n",
       "      <td>1.0</td>\n",
       "      <td>1.0</td>\n",
       "      <td>3.0</td>\n",
       "      <td>3.0</td>\n",
       "      <td>1</td>\n",
       "    </tr>\n",
       "  </tbody>\n",
       "</table>\n",
       "</div>"
      ],
      "text/plain": [
       "   _rowstate_                    Movie  Gender Marital_Status  Sinage  \\\n",
       "0           0  Ferris Buellers Day Off  Female        Married     2.0   \n",
       "1           0  Ferris Buellers Day Off  Female         Single     1.0   \n",
       "2           0  Ferris Buellers Day Off    Male        Married     2.0   \n",
       "3           0  Ferris Buellers Day Off  Female        Married     1.0   \n",
       "4           0  Ferris Buellers Day Off  Female        Married     1.0   \n",
       "\n",
       "   Parking  Clean  Overall  Age  Income Hear_About  \n",
       "0      2.0    2.0      2.0  3.0     1.0          5  \n",
       "1      1.0    1.0      1.0  2.0     1.0          5  \n",
       "2      4.0    3.0      2.0  4.0     1.0          5  \n",
       "3      3.0    2.0      2.0  4.0     1.0          5  \n",
       "4      1.0    1.0      1.0  3.0     3.0          1  "
      ]
     },
     "execution_count": 30,
     "metadata": {},
     "output_type": "execute_result"
    }
   ],
   "source": [
    "Films.Gender=np.where((Films.Gender == 'Male') | (Films.Gender == '1'),\"Male\",\"Female\")\n",
    "Films.head()"
   ]
  },
  {
   "cell_type": "code",
   "execution_count": 31,
   "id": "b485f7a8",
   "metadata": {},
   "outputs": [
    {
     "data": {
      "text/plain": [
       "Female    213\n",
       "Male      117\n",
       "Name: Gender, dtype: int64"
      ]
     },
     "execution_count": 31,
     "metadata": {},
     "output_type": "execute_result"
    }
   ],
   "source": [
    "Films.Gender.value_counts()"
   ]
  },
  {
   "cell_type": "code",
   "execution_count": 32,
   "id": "de5d5c73",
   "metadata": {},
   "outputs": [
    {
     "data": {
      "text/plain": [
       "2          208\n",
       "1           88\n",
       "Single      18\n",
       "Married     12\n",
       "Slngle       2\n",
       "Name: Marital_Status, dtype: int64"
      ]
     },
     "execution_count": 32,
     "metadata": {},
     "output_type": "execute_result"
    }
   ],
   "source": [
    "Films.Marital_Status.value_counts()"
   ]
  },
  {
   "cell_type": "code",
   "execution_count": 36,
   "id": "08c672e0",
   "metadata": {},
   "outputs": [
    {
     "data": {
      "text/html": [
       "<div>\n",
       "<style scoped>\n",
       "    .dataframe tbody tr th:only-of-type {\n",
       "        vertical-align: middle;\n",
       "    }\n",
       "\n",
       "    .dataframe tbody tr th {\n",
       "        vertical-align: top;\n",
       "    }\n",
       "\n",
       "    .dataframe thead th {\n",
       "        text-align: right;\n",
       "    }\n",
       "</style>\n",
       "<table border=\"1\" class=\"dataframe\">\n",
       "  <thead>\n",
       "    <tr style=\"text-align: right;\">\n",
       "      <th></th>\n",
       "      <th>_rowstate_</th>\n",
       "      <th>Movie</th>\n",
       "      <th>Gender</th>\n",
       "      <th>Marital_Status</th>\n",
       "      <th>Sinage</th>\n",
       "      <th>Parking</th>\n",
       "      <th>Clean</th>\n",
       "      <th>Overall</th>\n",
       "      <th>Age</th>\n",
       "      <th>Income</th>\n",
       "      <th>Hear_About</th>\n",
       "    </tr>\n",
       "  </thead>\n",
       "  <tbody>\n",
       "    <tr>\n",
       "      <th>0</th>\n",
       "      <td>0</td>\n",
       "      <td>Ferris Buellers Day Off</td>\n",
       "      <td>Female</td>\n",
       "      <td>Married</td>\n",
       "      <td>2.0</td>\n",
       "      <td>2.0</td>\n",
       "      <td>2.0</td>\n",
       "      <td>2.0</td>\n",
       "      <td>3.0</td>\n",
       "      <td>1.0</td>\n",
       "      <td>5</td>\n",
       "    </tr>\n",
       "    <tr>\n",
       "      <th>1</th>\n",
       "      <td>0</td>\n",
       "      <td>Ferris Buellers Day Off</td>\n",
       "      <td>Female</td>\n",
       "      <td>Single</td>\n",
       "      <td>1.0</td>\n",
       "      <td>1.0</td>\n",
       "      <td>1.0</td>\n",
       "      <td>1.0</td>\n",
       "      <td>2.0</td>\n",
       "      <td>1.0</td>\n",
       "      <td>5</td>\n",
       "    </tr>\n",
       "    <tr>\n",
       "      <th>2</th>\n",
       "      <td>0</td>\n",
       "      <td>Ferris Buellers Day Off</td>\n",
       "      <td>Male</td>\n",
       "      <td>Married</td>\n",
       "      <td>2.0</td>\n",
       "      <td>4.0</td>\n",
       "      <td>3.0</td>\n",
       "      <td>2.0</td>\n",
       "      <td>4.0</td>\n",
       "      <td>1.0</td>\n",
       "      <td>5</td>\n",
       "    </tr>\n",
       "    <tr>\n",
       "      <th>3</th>\n",
       "      <td>0</td>\n",
       "      <td>Ferris Buellers Day Off</td>\n",
       "      <td>Female</td>\n",
       "      <td>Married</td>\n",
       "      <td>1.0</td>\n",
       "      <td>3.0</td>\n",
       "      <td>2.0</td>\n",
       "      <td>2.0</td>\n",
       "      <td>4.0</td>\n",
       "      <td>1.0</td>\n",
       "      <td>5</td>\n",
       "    </tr>\n",
       "    <tr>\n",
       "      <th>4</th>\n",
       "      <td>0</td>\n",
       "      <td>Ferris Buellers Day Off</td>\n",
       "      <td>Female</td>\n",
       "      <td>Married</td>\n",
       "      <td>1.0</td>\n",
       "      <td>1.0</td>\n",
       "      <td>1.0</td>\n",
       "      <td>1.0</td>\n",
       "      <td>3.0</td>\n",
       "      <td>3.0</td>\n",
       "      <td>1</td>\n",
       "    </tr>\n",
       "  </tbody>\n",
       "</table>\n",
       "</div>"
      ],
      "text/plain": [
       "   _rowstate_                    Movie  Gender Marital_Status  Sinage  \\\n",
       "0           0  Ferris Buellers Day Off  Female        Married     2.0   \n",
       "1           0  Ferris Buellers Day Off  Female         Single     1.0   \n",
       "2           0  Ferris Buellers Day Off    Male        Married     2.0   \n",
       "3           0  Ferris Buellers Day Off  Female        Married     1.0   \n",
       "4           0  Ferris Buellers Day Off  Female        Married     1.0   \n",
       "\n",
       "   Parking  Clean  Overall  Age  Income Hear_About  \n",
       "0      2.0    2.0      2.0  3.0     1.0          5  \n",
       "1      1.0    1.0      1.0  2.0     1.0          5  \n",
       "2      4.0    3.0      2.0  4.0     1.0          5  \n",
       "3      3.0    2.0      2.0  4.0     1.0          5  \n",
       "4      1.0    1.0      1.0  3.0     3.0          1  "
      ]
     },
     "execution_count": 36,
     "metadata": {},
     "output_type": "execute_result"
    }
   ],
   "source": [
    "Films.Marital_Status=np.where((Films.Marital_Status=='Married') | (Films.Marital_Status=='1') ,\"Married\",\"Single\" )\n",
    "Films.head()"
   ]
  },
  {
   "cell_type": "code",
   "execution_count": 37,
   "id": "2f9a2b1d",
   "metadata": {},
   "outputs": [
    {
     "data": {
      "text/plain": [
       "Single     230\n",
       "Married    100\n",
       "Name: Marital_Status, dtype: int64"
      ]
     },
     "execution_count": 37,
     "metadata": {},
     "output_type": "execute_result"
    }
   ],
   "source": [
    "Films.Marital_Status.value_counts()"
   ]
  },
  {
   "cell_type": "code",
   "execution_count": 38,
   "id": "4385e344",
   "metadata": {},
   "outputs": [
    {
     "data": {
      "text/html": [
       "<div>\n",
       "<style scoped>\n",
       "    .dataframe tbody tr th:only-of-type {\n",
       "        vertical-align: middle;\n",
       "    }\n",
       "\n",
       "    .dataframe tbody tr th {\n",
       "        vertical-align: top;\n",
       "    }\n",
       "\n",
       "    .dataframe thead th {\n",
       "        text-align: right;\n",
       "    }\n",
       "</style>\n",
       "<table border=\"1\" class=\"dataframe\">\n",
       "  <thead>\n",
       "    <tr style=\"text-align: right;\">\n",
       "      <th></th>\n",
       "      <th>count</th>\n",
       "      <th>mean</th>\n",
       "      <th>std</th>\n",
       "      <th>min</th>\n",
       "      <th>25%</th>\n",
       "      <th>50%</th>\n",
       "      <th>75%</th>\n",
       "      <th>max</th>\n",
       "    </tr>\n",
       "  </thead>\n",
       "  <tbody>\n",
       "    <tr>\n",
       "      <th>_rowstate_</th>\n",
       "      <td>330.0</td>\n",
       "      <td>0.000000</td>\n",
       "      <td>0.000000</td>\n",
       "      <td>0.0</td>\n",
       "      <td>0.0</td>\n",
       "      <td>0.0</td>\n",
       "      <td>0.0</td>\n",
       "      <td>0.0</td>\n",
       "    </tr>\n",
       "    <tr>\n",
       "      <th>Sinage</th>\n",
       "      <td>328.0</td>\n",
       "      <td>1.884146</td>\n",
       "      <td>0.830603</td>\n",
       "      <td>1.0</td>\n",
       "      <td>1.0</td>\n",
       "      <td>2.0</td>\n",
       "      <td>2.0</td>\n",
       "      <td>5.0</td>\n",
       "    </tr>\n",
       "    <tr>\n",
       "      <th>Parking</th>\n",
       "      <td>328.0</td>\n",
       "      <td>1.756098</td>\n",
       "      <td>0.798484</td>\n",
       "      <td>1.0</td>\n",
       "      <td>1.0</td>\n",
       "      <td>2.0</td>\n",
       "      <td>2.0</td>\n",
       "      <td>5.0</td>\n",
       "    </tr>\n",
       "    <tr>\n",
       "      <th>Clean</th>\n",
       "      <td>327.0</td>\n",
       "      <td>1.681957</td>\n",
       "      <td>0.728313</td>\n",
       "      <td>1.0</td>\n",
       "      <td>1.0</td>\n",
       "      <td>2.0</td>\n",
       "      <td>2.0</td>\n",
       "      <td>5.0</td>\n",
       "    </tr>\n",
       "    <tr>\n",
       "      <th>Overall</th>\n",
       "      <td>328.0</td>\n",
       "      <td>1.618902</td>\n",
       "      <td>0.689286</td>\n",
       "      <td>1.0</td>\n",
       "      <td>1.0</td>\n",
       "      <td>2.0</td>\n",
       "      <td>2.0</td>\n",
       "      <td>5.0</td>\n",
       "    </tr>\n",
       "    <tr>\n",
       "      <th>Age</th>\n",
       "      <td>328.0</td>\n",
       "      <td>2.338415</td>\n",
       "      <td>0.666902</td>\n",
       "      <td>1.0</td>\n",
       "      <td>2.0</td>\n",
       "      <td>2.0</td>\n",
       "      <td>3.0</td>\n",
       "      <td>4.0</td>\n",
       "    </tr>\n",
       "    <tr>\n",
       "      <th>Income</th>\n",
       "      <td>314.0</td>\n",
       "      <td>1.834395</td>\n",
       "      <td>0.844808</td>\n",
       "      <td>1.0</td>\n",
       "      <td>1.0</td>\n",
       "      <td>2.0</td>\n",
       "      <td>3.0</td>\n",
       "      <td>3.0</td>\n",
       "    </tr>\n",
       "  </tbody>\n",
       "</table>\n",
       "</div>"
      ],
      "text/plain": [
       "            count      mean       std  min  25%  50%  75%  max\n",
       "_rowstate_  330.0  0.000000  0.000000  0.0  0.0  0.0  0.0  0.0\n",
       "Sinage      328.0  1.884146  0.830603  1.0  1.0  2.0  2.0  5.0\n",
       "Parking     328.0  1.756098  0.798484  1.0  1.0  2.0  2.0  5.0\n",
       "Clean       327.0  1.681957  0.728313  1.0  1.0  2.0  2.0  5.0\n",
       "Overall     328.0  1.618902  0.689286  1.0  1.0  2.0  2.0  5.0\n",
       "Age         328.0  2.338415  0.666902  1.0  2.0  2.0  3.0  4.0\n",
       "Income      314.0  1.834395  0.844808  1.0  1.0  2.0  3.0  3.0"
      ]
     },
     "execution_count": 38,
     "metadata": {},
     "output_type": "execute_result"
    }
   ],
   "source": [
    "Films.describe().T"
   ]
  },
  {
   "cell_type": "code",
   "execution_count": 41,
   "id": "db2a2a0e",
   "metadata": {},
   "outputs": [
    {
     "data": {
      "text/plain": [
       "_rowstate_         0\n",
       "Movie              0\n",
       "Gender             0\n",
       "Marital_Status     0\n",
       "Sinage             2\n",
       "Parking            2\n",
       "Clean              3\n",
       "Overall            2\n",
       "Age                2\n",
       "Income            16\n",
       "Hear_About         7\n",
       "dtype: int64"
      ]
     },
     "execution_count": 41,
     "metadata": {},
     "output_type": "execute_result"
    }
   ],
   "source": [
    "Films.isnull().sum()"
   ]
  },
  {
   "cell_type": "code",
   "execution_count": 43,
   "id": "f56dcb71",
   "metadata": {},
   "outputs": [
    {
     "data": {
      "text/plain": [
       "_rowstate_        0\n",
       "Movie             0\n",
       "Gender            0\n",
       "Marital_Status    0\n",
       "Sinage            0\n",
       "Parking           0\n",
       "Clean             0\n",
       "Overall           0\n",
       "Age               0\n",
       "Income            0\n",
       "Hear_About        0\n",
       "dtype: int64"
      ]
     },
     "execution_count": 43,
     "metadata": {},
     "output_type": "execute_result"
    }
   ],
   "source": [
    "for a in Films.columns:\n",
    "    Films[a] = Films[a].fillna(Films[a].mode()[0])\n",
    "Films.isnull().sum()  "
   ]
  },
  {
   "cell_type": "markdown",
   "id": "bb5875cf",
   "metadata": {},
   "source": [
    "#### What is the overall level of customer satisfaction?"
   ]
  },
  {
   "cell_type": "code",
   "execution_count": 45,
   "id": "40ecd461",
   "metadata": {},
   "outputs": [
    {
     "data": {
      "text/plain": [
       "1.621212121212121"
      ]
     },
     "execution_count": 45,
     "metadata": {},
     "output_type": "execute_result"
    }
   ],
   "source": [
    "F_m = Films.Overall.mean()\n",
    "F_m"
   ]
  },
  {
   "cell_type": "code",
   "execution_count": 48,
   "id": "74c0600c",
   "metadata": {},
   "outputs": [
    {
     "data": {
      "text/plain": [
       "0.6878262202585181"
      ]
     },
     "execution_count": 48,
     "metadata": {},
     "output_type": "execute_result"
    }
   ],
   "source": [
    "F_st = Films.Overall.std()\n",
    "F_st"
   ]
  },
  {
   "cell_type": "code",
   "execution_count": 52,
   "id": "307b1efb",
   "metadata": {},
   "outputs": [
    {
     "data": {
      "text/plain": [
       "0.037863587260422576"
      ]
     },
     "execution_count": 52,
     "metadata": {},
     "output_type": "execute_result"
    }
   ],
   "source": [
    "Films_Sample_Error = F_st/(np.sqrt(Films.shape[0]))\n",
    "Films_Sample_Error"
   ]
  },
  {
   "cell_type": "code",
   "execution_count": 57,
   "id": "c542d3f1",
   "metadata": {},
   "outputs": [],
   "source": [
    "Films_CI = (F_m - (1.96*Films_Sample_Error), F_m + (1.96*Films_Sample_Error))"
   ]
  },
  {
   "cell_type": "code",
   "execution_count": 56,
   "id": "9b013dba",
   "metadata": {},
   "outputs": [
    {
     "data": {
      "text/plain": [
       "(1.5469994901816928, 1.6954247522425494)"
      ]
     },
     "execution_count": 56,
     "metadata": {},
     "output_type": "execute_result"
    }
   ],
   "source": [
    "Films_CI"
   ]
  },
  {
   "cell_type": "markdown",
   "id": "fec9ff2a",
   "metadata": {},
   "source": [
    "##### So the overall level of customer satisfaction will be in the range between(1.5469994901816928, 1.6954247522425494)."
   ]
  },
  {
   "cell_type": "markdown",
   "id": "8aca60d0",
   "metadata": {},
   "source": [
    "#### What factors are linked to satisfaction?"
   ]
  },
  {
   "cell_type": "code",
   "execution_count": 58,
   "id": "3174002b",
   "metadata": {},
   "outputs": [
    {
     "data": {
      "text/html": [
       "<div>\n",
       "<style scoped>\n",
       "    .dataframe tbody tr th:only-of-type {\n",
       "        vertical-align: middle;\n",
       "    }\n",
       "\n",
       "    .dataframe tbody tr th {\n",
       "        vertical-align: top;\n",
       "    }\n",
       "\n",
       "    .dataframe thead th {\n",
       "        text-align: right;\n",
       "    }\n",
       "</style>\n",
       "<table border=\"1\" class=\"dataframe\">\n",
       "  <thead>\n",
       "    <tr style=\"text-align: right;\">\n",
       "      <th></th>\n",
       "      <th>_rowstate_</th>\n",
       "      <th>Movie</th>\n",
       "      <th>Gender</th>\n",
       "      <th>Marital_Status</th>\n",
       "      <th>Sinage</th>\n",
       "      <th>Parking</th>\n",
       "      <th>Clean</th>\n",
       "      <th>Overall</th>\n",
       "      <th>Age</th>\n",
       "      <th>Income</th>\n",
       "      <th>Hear_About</th>\n",
       "    </tr>\n",
       "  </thead>\n",
       "  <tbody>\n",
       "    <tr>\n",
       "      <th>0</th>\n",
       "      <td>0</td>\n",
       "      <td>Ferris Buellers Day Off</td>\n",
       "      <td>Female</td>\n",
       "      <td>Married</td>\n",
       "      <td>2.0</td>\n",
       "      <td>2.0</td>\n",
       "      <td>2.0</td>\n",
       "      <td>2.0</td>\n",
       "      <td>3.0</td>\n",
       "      <td>1.0</td>\n",
       "      <td>5</td>\n",
       "    </tr>\n",
       "    <tr>\n",
       "      <th>1</th>\n",
       "      <td>0</td>\n",
       "      <td>Ferris Buellers Day Off</td>\n",
       "      <td>Female</td>\n",
       "      <td>Single</td>\n",
       "      <td>1.0</td>\n",
       "      <td>1.0</td>\n",
       "      <td>1.0</td>\n",
       "      <td>1.0</td>\n",
       "      <td>2.0</td>\n",
       "      <td>1.0</td>\n",
       "      <td>5</td>\n",
       "    </tr>\n",
       "    <tr>\n",
       "      <th>2</th>\n",
       "      <td>0</td>\n",
       "      <td>Ferris Buellers Day Off</td>\n",
       "      <td>Male</td>\n",
       "      <td>Married</td>\n",
       "      <td>2.0</td>\n",
       "      <td>4.0</td>\n",
       "      <td>3.0</td>\n",
       "      <td>2.0</td>\n",
       "      <td>4.0</td>\n",
       "      <td>1.0</td>\n",
       "      <td>5</td>\n",
       "    </tr>\n",
       "    <tr>\n",
       "      <th>3</th>\n",
       "      <td>0</td>\n",
       "      <td>Ferris Buellers Day Off</td>\n",
       "      <td>Female</td>\n",
       "      <td>Married</td>\n",
       "      <td>1.0</td>\n",
       "      <td>3.0</td>\n",
       "      <td>2.0</td>\n",
       "      <td>2.0</td>\n",
       "      <td>4.0</td>\n",
       "      <td>1.0</td>\n",
       "      <td>5</td>\n",
       "    </tr>\n",
       "    <tr>\n",
       "      <th>4</th>\n",
       "      <td>0</td>\n",
       "      <td>Ferris Buellers Day Off</td>\n",
       "      <td>Female</td>\n",
       "      <td>Married</td>\n",
       "      <td>1.0</td>\n",
       "      <td>1.0</td>\n",
       "      <td>1.0</td>\n",
       "      <td>1.0</td>\n",
       "      <td>3.0</td>\n",
       "      <td>3.0</td>\n",
       "      <td>1</td>\n",
       "    </tr>\n",
       "  </tbody>\n",
       "</table>\n",
       "</div>"
      ],
      "text/plain": [
       "   _rowstate_                    Movie  Gender Marital_Status  Sinage  \\\n",
       "0           0  Ferris Buellers Day Off  Female        Married     2.0   \n",
       "1           0  Ferris Buellers Day Off  Female         Single     1.0   \n",
       "2           0  Ferris Buellers Day Off    Male        Married     2.0   \n",
       "3           0  Ferris Buellers Day Off  Female        Married     1.0   \n",
       "4           0  Ferris Buellers Day Off  Female        Married     1.0   \n",
       "\n",
       "   Parking  Clean  Overall  Age  Income Hear_About  \n",
       "0      2.0    2.0      2.0  3.0     1.0          5  \n",
       "1      1.0    1.0      1.0  2.0     1.0          5  \n",
       "2      4.0    3.0      2.0  4.0     1.0          5  \n",
       "3      3.0    2.0      2.0  4.0     1.0          5  \n",
       "4      1.0    1.0      1.0  3.0     3.0          1  "
      ]
     },
     "execution_count": 58,
     "metadata": {},
     "output_type": "execute_result"
    }
   ],
   "source": [
    "Films.head()"
   ]
  },
  {
   "cell_type": "markdown",
   "id": "9595d429",
   "metadata": {},
   "source": [
    "### 1. Movie"
   ]
  },
  {
   "cell_type": "code",
   "execution_count": 59,
   "id": "b2750ff1",
   "metadata": {},
   "outputs": [
    {
     "data": {
      "text/plain": [
       "Willy Wonka                161\n",
       "Ferris Buellers Day Off    137\n",
       "Old School                  32\n",
       "Name: Movie, dtype: int64"
      ]
     },
     "execution_count": 59,
     "metadata": {},
     "output_type": "execute_result"
    }
   ],
   "source": [
    "Films.Movie.value_counts()"
   ]
  },
  {
   "cell_type": "code",
   "execution_count": 61,
   "id": "7e2e7f5b",
   "metadata": {},
   "outputs": [],
   "source": [
    "Willy_Wonka = Films.loc[Films.Movie =='Willy Wonka', 'Overall']\n",
    "F_B_D_O = Films.loc[Films.Movie =='Ferris Buellers Day Off', 'Overall']\n",
    "Old_School = Films.loc[Films.Movie =='Old School', 'Overall']"
   ]
  },
  {
   "cell_type": "code",
   "execution_count": 63,
   "id": "bd20f523",
   "metadata": {},
   "outputs": [
    {
     "data": {
      "text/plain": [
       "F_onewayResult(statistic=1.335243752886233, pvalue=0.2645245972839795)"
      ]
     },
     "execution_count": 63,
     "metadata": {},
     "output_type": "execute_result"
    }
   ],
   "source": [
    "stats.f_oneway(Willy_Wonka,F_B_D_O,Old_School)"
   ]
  },
  {
   "cell_type": "markdown",
   "id": "8f168a7c",
   "metadata": {},
   "source": [
    "##### pvalue : 0.2645245972839795, which is greater than 0.05, we cannot reject null hypothesis . With 95 percent confidence interval,we cannot say that Movie is a factor linked to satisfaction with this data. "
   ]
  },
  {
   "cell_type": "markdown",
   "id": "0885bd25",
   "metadata": {},
   "source": [
    "### 2. Gender"
   ]
  },
  {
   "cell_type": "code",
   "execution_count": 64,
   "id": "92cc4f09",
   "metadata": {},
   "outputs": [],
   "source": [
    "Male = Films.loc[Films.Gender == 'Male', 'Overall']\n",
    "Female = Films.loc[Films.Gender == 'Female', 'Overall']\n"
   ]
  },
  {
   "cell_type": "code",
   "execution_count": 65,
   "id": "3d9fdc51",
   "metadata": {},
   "outputs": [
    {
     "data": {
      "text/plain": [
       "Ttest_indResult(statistic=1.393621669674226, pvalue=0.164375419321128)"
      ]
     },
     "execution_count": 65,
     "metadata": {},
     "output_type": "execute_result"
    }
   ],
   "source": [
    "stats.ttest_ind(Male, Female)"
   ]
  },
  {
   "cell_type": "markdown",
   "id": "9eab1179",
   "metadata": {},
   "source": [
    "##### pvalue : 0.164375419321128, which is greater than 0.05, so, we cannot reject null hypothesis . With 95 percent confidence interval,we cannot say that Gender is a factor linked to satisfaction with this data. "
   ]
  },
  {
   "cell_type": "markdown",
   "id": "98863c1c",
   "metadata": {},
   "source": [
    "### 3. Marital_Status"
   ]
  },
  {
   "cell_type": "code",
   "execution_count": 67,
   "id": "09298d28",
   "metadata": {},
   "outputs": [],
   "source": [
    "Married = Films.loc[Films.Marital_Status == 'Married', 'Overall']\n",
    "Single = Films.loc[Films.Marital_Status == 'Single', 'Overall']"
   ]
  },
  {
   "cell_type": "code",
   "execution_count": 68,
   "id": "28eed19a",
   "metadata": {},
   "outputs": [
    {
     "data": {
      "text/plain": [
       "Ttest_indResult(statistic=-0.7171640309514444, pvalue=0.47378328196635067)"
      ]
     },
     "execution_count": 68,
     "metadata": {},
     "output_type": "execute_result"
    }
   ],
   "source": [
    "stats.ttest_ind(Married,Single)"
   ]
  },
  {
   "cell_type": "markdown",
   "id": "eaa6869c",
   "metadata": {},
   "source": [
    "##### pvalue : 0.47378328196635067, which is greater than 0.05, so, we cannot reject null hypothesis . With 95 percent confidence interval,we cannot say that Marital_status is a factor linked to satisfaction with this data. "
   ]
  },
  {
   "cell_type": "markdown",
   "id": "69b20004",
   "metadata": {},
   "source": [
    "### 4. Sinage"
   ]
  },
  {
   "cell_type": "code",
   "execution_count": 69,
   "id": "d558f9c2",
   "metadata": {},
   "outputs": [
    {
     "data": {
      "text/plain": [
       "2.0    158\n",
       "1.0    113\n",
       "3.0     48\n",
       "4.0      6\n",
       "5.0      5\n",
       "Name: Sinage, dtype: int64"
      ]
     },
     "execution_count": 69,
     "metadata": {},
     "output_type": "execute_result"
    }
   ],
   "source": [
    "Films.Sinage.value_counts()"
   ]
  },
  {
   "cell_type": "code",
   "execution_count": 70,
   "id": "3b99d6a1",
   "metadata": {},
   "outputs": [
    {
     "data": {
      "text/plain": [
       "PearsonRResult(statistic=0.3821028042239566, pvalue=6.501065434766498e-13)"
      ]
     },
     "execution_count": 70,
     "metadata": {},
     "output_type": "execute_result"
    }
   ],
   "source": [
    "stats.pearsonr(Films.Sinage,Films.Overall)"
   ]
  },
  {
   "cell_type": "markdown",
   "id": "a9041460",
   "metadata": {},
   "source": [
    "##### pvalue : 6.501065434766498e-13, which is less than 0.05,we can reject null hypothesis . With 95 percent confidence interval,we can say that Sinage is a factor linked to satisfaction with this data. "
   ]
  },
  {
   "cell_type": "markdown",
   "id": "202d7a74",
   "metadata": {},
   "source": [
    "### 5. Parking"
   ]
  },
  {
   "cell_type": "code",
   "execution_count": 72,
   "id": "b1697a71",
   "metadata": {},
   "outputs": [
    {
     "data": {
      "text/plain": [
       "2.0    155\n",
       "1.0    135\n",
       "3.0     29\n",
       "4.0      7\n",
       "5.0      4\n",
       "Name: Parking, dtype: int64"
      ]
     },
     "execution_count": 72,
     "metadata": {},
     "output_type": "execute_result"
    }
   ],
   "source": [
    "Films.Parking.value_counts()"
   ]
  },
  {
   "cell_type": "code",
   "execution_count": 73,
   "id": "13159563",
   "metadata": {},
   "outputs": [
    {
     "data": {
      "text/plain": [
       "PearsonRResult(statistic=0.5144289487855268, pvalue=1.0840276087790511e-23)"
      ]
     },
     "execution_count": 73,
     "metadata": {},
     "output_type": "execute_result"
    }
   ],
   "source": [
    "stats.pearsonr(Films.Parking, Films.Overall)"
   ]
  },
  {
   "cell_type": "markdown",
   "id": "c190d740",
   "metadata": {},
   "source": [
    "##### pvalue : 1.0840276087790511e-23, which is less than 0.05, so, we can reject null hypothesis . With 95 percent confidence interval,we can say that Parking is a factor linked to satisfaction with this data. "
   ]
  },
  {
   "cell_type": "markdown",
   "id": "04e1f0ad",
   "metadata": {},
   "source": [
    "### 6. Clean "
   ]
  },
  {
   "cell_type": "code",
   "execution_count": 74,
   "id": "75091e58",
   "metadata": {},
   "outputs": [
    {
     "data": {
      "text/plain": [
       "2.0    155\n",
       "1.0    144\n",
       "3.0     24\n",
       "4.0      5\n",
       "5.0      2\n",
       "Name: Clean, dtype: int64"
      ]
     },
     "execution_count": 74,
     "metadata": {},
     "output_type": "execute_result"
    }
   ],
   "source": [
    "Films.Clean.value_counts()"
   ]
  },
  {
   "cell_type": "code",
   "execution_count": 78,
   "id": "e6a71ac3",
   "metadata": {},
   "outputs": [
    {
     "data": {
      "text/plain": [
       "PearsonRResult(statistic=0.350822278907092, pvalue=5.437550007439801e-11)"
      ]
     },
     "execution_count": 78,
     "metadata": {},
     "output_type": "execute_result"
    }
   ],
   "source": [
    "stats.pearsonr(Films.Clean, Films.Overall)"
   ]
  },
  {
   "cell_type": "markdown",
   "id": "759ac111",
   "metadata": {},
   "source": [
    "##### pvalue : 5.437550007439801e-11, which is less than 0.05, so, we can reject null hypothesis . With 95 percent confidence interval,we can say that Clean is a factor linked to satisfaction with this data. "
   ]
  },
  {
   "cell_type": "markdown",
   "id": "5e6b9263",
   "metadata": {},
   "source": [
    "### 7. Age"
   ]
  },
  {
   "cell_type": "code",
   "execution_count": 79,
   "id": "5caa08f7",
   "metadata": {},
   "outputs": [
    {
     "data": {
      "text/plain": [
       "2.0    177\n",
       "3.0    117\n",
       "1.0     26\n",
       "4.0     10\n",
       "Name: Age, dtype: int64"
      ]
     },
     "execution_count": 79,
     "metadata": {},
     "output_type": "execute_result"
    }
   ],
   "source": [
    "Films.Age.value_counts()"
   ]
  },
  {
   "cell_type": "code",
   "execution_count": 99,
   "id": "e65f3810",
   "metadata": {},
   "outputs": [],
   "source": [
    "Age_1 = Films.loc[Films.Age == 1,'Overall']\n",
    "Age_2 = Films.loc[Films.Age == 2,'Overall']\n",
    "Age_3 = Films.loc[Films.Age == 3,'Overall']\n",
    "Age_4 = Films.loc[Films.Age == 4,'Overall']"
   ]
  },
  {
   "cell_type": "code",
   "execution_count": 102,
   "id": "35444250",
   "metadata": {},
   "outputs": [
    {
     "data": {
      "text/plain": [
       "F_onewayResult(statistic=1.0249927945692117, pvalue=0.3816737451872476)"
      ]
     },
     "execution_count": 102,
     "metadata": {},
     "output_type": "execute_result"
    }
   ],
   "source": [
    "stats.f_oneway(Age_1, Age_2, Age_3, Age_4)"
   ]
  },
  {
   "cell_type": "markdown",
   "id": "8fae8f7b",
   "metadata": {},
   "source": [
    "##### pvalue : 0.3816737451872476, which is greater than 0.05, so, we cannot reject null hypothesis . With 95 percent confidence interval, we cannot say that Age is a factor linked to satisfaction with this data. "
   ]
  },
  {
   "cell_type": "markdown",
   "id": "f2a28404",
   "metadata": {},
   "source": [
    "### 8. Income"
   ]
  },
  {
   "cell_type": "code",
   "execution_count": 103,
   "id": "47fc6fff",
   "metadata": {},
   "outputs": [
    {
     "data": {
      "text/plain": [
       "1.0    158\n",
       "3.0     90\n",
       "2.0     82\n",
       "Name: Income, dtype: int64"
      ]
     },
     "execution_count": 103,
     "metadata": {},
     "output_type": "execute_result"
    }
   ],
   "source": [
    "Films.Income.value_counts()"
   ]
  },
  {
   "cell_type": "code",
   "execution_count": 126,
   "id": "f6ec1e07",
   "metadata": {},
   "outputs": [],
   "source": [
    "Inc1 = Films.loc[Films.Income == 1, 'Overall']\n",
    "Inc2 = Films.loc[Films.Income == 2, 'Overall']\n",
    "Inc3 = Films.loc[Films.Income == 3, 'Overall']"
   ]
  },
  {
   "cell_type": "code",
   "execution_count": 127,
   "id": "092a07da",
   "metadata": {},
   "outputs": [
    {
     "data": {
      "text/plain": [
       "F_onewayResult(statistic=0.16488481054397225, pvalue=0.8480618362664576)"
      ]
     },
     "execution_count": 127,
     "metadata": {},
     "output_type": "execute_result"
    }
   ],
   "source": [
    "stats.f_oneway(Inc1, Inc2 ,Inc3)"
   ]
  },
  {
   "cell_type": "markdown",
   "id": "df414a9d",
   "metadata": {},
   "source": [
    "##### pvalue : 0.8480618362664576 , which is greater than 0.05, so, we cannot reject null hypothesis . With 95 percent confidence interval, we cannot say that Income is a factor linked to satisfaction with this data. "
   ]
  },
  {
   "cell_type": "markdown",
   "id": "eccf1352",
   "metadata": {},
   "source": [
    "### 9. Hear_About"
   ]
  },
  {
   "cell_type": "code",
   "execution_count": 108,
   "id": "6a707133",
   "metadata": {},
   "outputs": [
    {
     "data": {
      "text/plain": [
       "5      233\n",
       "4       41\n",
       "1       22\n",
       "3       14\n",
       "2       12\n",
       "2,5      2\n",
       "3,4      2\n",
       "4,5      1\n",
       "1,5      1\n",
       "5,4      1\n",
       "3,5      1\n",
       "Name: Hear_About, dtype: int64"
      ]
     },
     "execution_count": 108,
     "metadata": {},
     "output_type": "execute_result"
    }
   ],
   "source": [
    "Films.Hear_About.value_counts()"
   ]
  },
  {
   "cell_type": "code",
   "execution_count": 139,
   "id": "2feb5a55",
   "metadata": {},
   "outputs": [],
   "source": [
    "Ha_1 = Films.loc[Films.Hear_About == '1', 'Overall']\n",
    "Ha_2 = Films.loc[Films.Hear_About == '2', 'Overall']\n",
    "Ha_3 = Films.loc[Films.Hear_About == '3', 'Overall']\n",
    "Ha_4 = Films.loc[Films.Hear_About == '4', 'Overall']\n",
    "Ha_5 = Films.loc[Films.Hear_About == '5', 'Overall']\n",
    "Ha_1_5 = Films.loc[Films.Hear_About == '1,5', 'Overall']\n",
    "Ha_2_5 = Films.loc[Films.Hear_About == ('2,5'), 'Overall']\n",
    "Ha_3_5 = Films.loc[Films.Hear_About == ('3,5'), 'Overall']\n",
    "Ha_4_5 = Films.loc[Films.Hear_About == ('4,5'), 'Overall']\n",
    "Ha_3_4 = Films.loc[Films.Hear_About == ('3,4'), 'Overall']\n",
    "Ha_5_4 = Films.loc[Films.Hear_About == ('5,4'), 'Overall']"
   ]
  },
  {
   "cell_type": "code",
   "execution_count": 141,
   "id": "e4901020",
   "metadata": {},
   "outputs": [
    {
     "data": {
      "text/plain": [
       "F_onewayResult(statistic=1.4573975390851377, pvalue=0.15433478299883044)"
      ]
     },
     "execution_count": 141,
     "metadata": {},
     "output_type": "execute_result"
    }
   ],
   "source": [
    "stats.f_oneway(Ha_1, Ha_2, Ha_3, Ha_4, Ha_5, Ha_1_5, Ha_2_5, Ha_3_4, Ha_3_5, Ha_4_5, Ha_5_4)"
   ]
  },
  {
   "cell_type": "markdown",
   "id": "442592d6",
   "metadata": {},
   "source": [
    "##### pvalue : 0.15433478299883044 , which is greater than 0.05, so, we cannot reject null hypothesis . With 95 percent confidence interval, we cannot say that Hear_about is a factor linked to satisfaction with this data. "
   ]
  },
  {
   "cell_type": "markdown",
   "id": "e18a8827",
   "metadata": {},
   "source": [
    "##### After analysis, We get sinage, parking and clean these are the factors which linked to satisfaction."
   ]
  },
  {
   "cell_type": "markdown",
   "id": "3c4ebc8f",
   "metadata": {},
   "source": [
    "#### What is the demographic profile of Film on the Rocks patrons?"
   ]
  },
  {
   "cell_type": "code",
   "execution_count": 159,
   "id": "8426fd54",
   "metadata": {},
   "outputs": [
    {
     "data": {
      "text/html": [
       "<div>\n",
       "<style scoped>\n",
       "    .dataframe tbody tr th:only-of-type {\n",
       "        vertical-align: middle;\n",
       "    }\n",
       "\n",
       "    .dataframe tbody tr th {\n",
       "        vertical-align: top;\n",
       "    }\n",
       "\n",
       "    .dataframe thead th {\n",
       "        text-align: right;\n",
       "    }\n",
       "</style>\n",
       "<table border=\"1\" class=\"dataframe\">\n",
       "  <thead>\n",
       "    <tr style=\"text-align: right;\">\n",
       "      <th></th>\n",
       "      <th>Gender</th>\n",
       "    </tr>\n",
       "    <tr>\n",
       "      <th>index</th>\n",
       "      <th></th>\n",
       "    </tr>\n",
       "  </thead>\n",
       "  <tbody>\n",
       "    <tr>\n",
       "      <th>Female</th>\n",
       "      <td>64.545455</td>\n",
       "    </tr>\n",
       "    <tr>\n",
       "      <th>Male</th>\n",
       "      <td>35.454545</td>\n",
       "    </tr>\n",
       "  </tbody>\n",
       "</table>\n",
       "</div>"
      ],
      "text/plain": [
       "           Gender\n",
       "index            \n",
       "Female  64.545455\n",
       "Male    35.454545"
      ]
     },
     "execution_count": 159,
     "metadata": {},
     "output_type": "execute_result"
    }
   ],
   "source": [
    "Demo_Gen = (Films.Gender.value_counts()/(Films.shape[0])*100).reset_index().set_index('index')\n",
    "Demo_Gen"
   ]
  },
  {
   "cell_type": "code",
   "execution_count": 171,
   "id": "2befab07",
   "metadata": {},
   "outputs": [
    {
     "data": {
      "image/png": "[encoded data removed]",
      "text/plain": [
       "<Figure size 640x480 with 1 Axes>"
      ]
     },
     "metadata": {},
     "output_type": "display_data"
    }
   ],
   "source": [
    "plt.pie(Demo_Gen.Gender, labels = Demo_Gen.index, autopct = '%1.2f%%', startangle = 360)\n",
    "plt.show()"
   ]
  },
  {
   "cell_type": "code",
   "execution_count": 162,
   "id": "786f2f07",
   "metadata": {},
   "outputs": [
    {
     "data": {
      "text/html": [
       "<div>\n",
       "<style scoped>\n",
       "    .dataframe tbody tr th:only-of-type {\n",
       "        vertical-align: middle;\n",
       "    }\n",
       "\n",
       "    .dataframe tbody tr th {\n",
       "        vertical-align: top;\n",
       "    }\n",
       "\n",
       "    .dataframe thead th {\n",
       "        text-align: right;\n",
       "    }\n",
       "</style>\n",
       "<table border=\"1\" class=\"dataframe\">\n",
       "  <thead>\n",
       "    <tr style=\"text-align: right;\">\n",
       "      <th></th>\n",
       "      <th>Marital_Status</th>\n",
       "    </tr>\n",
       "    <tr>\n",
       "      <th>index</th>\n",
       "      <th></th>\n",
       "    </tr>\n",
       "  </thead>\n",
       "  <tbody>\n",
       "    <tr>\n",
       "      <th>Single</th>\n",
       "      <td>69.69697</td>\n",
       "    </tr>\n",
       "    <tr>\n",
       "      <th>Married</th>\n",
       "      <td>30.30303</td>\n",
       "    </tr>\n",
       "  </tbody>\n",
       "</table>\n",
       "</div>"
      ],
      "text/plain": [
       "         Marital_Status\n",
       "index                  \n",
       "Single         69.69697\n",
       "Married        30.30303"
      ]
     },
     "execution_count": 162,
     "metadata": {},
     "output_type": "execute_result"
    }
   ],
   "source": [
    "Demo_MS = (Films.Marital_Status.value_counts()/(Films.shape[0])*100).reset_index().set_index('index')\n",
    "Demo_MS"
   ]
  },
  {
   "cell_type": "code",
   "execution_count": 170,
   "id": "44c31c25",
   "metadata": {},
   "outputs": [
    {
     "data": {
      "image/png": "[encoded data removed]",
      "text/plain": [
       "<Figure size 640x480 with 1 Axes>"
      ]
     },
     "metadata": {},
     "output_type": "display_data"
    }
   ],
   "source": [
    "plt.pie(Demo_MS.Marital_Status, labels = Demo_MS.index, autopct = '%1.2f%%', startangle = 360)\n",
    "plt.show()"
   ]
  },
  {
   "cell_type": "code",
   "execution_count": 177,
   "id": "74fa6926",
   "metadata": {},
   "outputs": [
    {
     "data": {
      "text/html": [
       "<div>\n",
       "<style scoped>\n",
       "    .dataframe tbody tr th:only-of-type {\n",
       "        vertical-align: middle;\n",
       "    }\n",
       "\n",
       "    .dataframe tbody tr th {\n",
       "        vertical-align: top;\n",
       "    }\n",
       "\n",
       "    .dataframe thead th {\n",
       "        text-align: right;\n",
       "    }\n",
       "</style>\n",
       "<table border=\"1\" class=\"dataframe\">\n",
       "  <thead>\n",
       "    <tr style=\"text-align: right;\">\n",
       "      <th></th>\n",
       "      <th>Age</th>\n",
       "    </tr>\n",
       "    <tr>\n",
       "      <th>index</th>\n",
       "      <th></th>\n",
       "    </tr>\n",
       "  </thead>\n",
       "  <tbody>\n",
       "    <tr>\n",
       "      <th>2.0</th>\n",
       "      <td>53.636364</td>\n",
       "    </tr>\n",
       "    <tr>\n",
       "      <th>3.0</th>\n",
       "      <td>35.454545</td>\n",
       "    </tr>\n",
       "    <tr>\n",
       "      <th>1.0</th>\n",
       "      <td>7.878788</td>\n",
       "    </tr>\n",
       "    <tr>\n",
       "      <th>4.0</th>\n",
       "      <td>3.030303</td>\n",
       "    </tr>\n",
       "  </tbody>\n",
       "</table>\n",
       "</div>"
      ],
      "text/plain": [
       "             Age\n",
       "index           \n",
       "2.0    53.636364\n",
       "3.0    35.454545\n",
       "1.0     7.878788\n",
       "4.0     3.030303"
      ]
     },
     "execution_count": 177,
     "metadata": {},
     "output_type": "execute_result"
    }
   ],
   "source": [
    "Demo_Age = (Films.Age.value_counts()/(Films.shape[0])*100).reset_index().set_index('index')\n",
    "Demo_Age"
   ]
  },
  {
   "cell_type": "code",
   "execution_count": 178,
   "id": "484588c0",
   "metadata": {},
   "outputs": [
    {
     "data": {
      "image/png": "[encoded data removed]",
      "text/plain": [
       "<Figure size 640x480 with 1 Axes>"
      ]
     },
     "metadata": {},
     "output_type": "display_data"
    }
   ],
   "source": [
    "plt.pie(Demo_Age.Age, labels = ['13-30','31-60','1-12','60+'], autopct = '%1.2f%%', startangle = 360)\n",
    "plt.show()"
   ]
  },
  {
   "cell_type": "code",
   "execution_count": 179,
   "id": "254f70db",
   "metadata": {},
   "outputs": [
    {
     "data": {
      "text/html": [
       "<div>\n",
       "<style scoped>\n",
       "    .dataframe tbody tr th:only-of-type {\n",
       "        vertical-align: middle;\n",
       "    }\n",
       "\n",
       "    .dataframe tbody tr th {\n",
       "        vertical-align: top;\n",
       "    }\n",
       "\n",
       "    .dataframe thead th {\n",
       "        text-align: right;\n",
       "    }\n",
       "</style>\n",
       "<table border=\"1\" class=\"dataframe\">\n",
       "  <thead>\n",
       "    <tr style=\"text-align: right;\">\n",
       "      <th></th>\n",
       "      <th>Income</th>\n",
       "    </tr>\n",
       "    <tr>\n",
       "      <th>index</th>\n",
       "      <th></th>\n",
       "    </tr>\n",
       "  </thead>\n",
       "  <tbody>\n",
       "    <tr>\n",
       "      <th>1.0</th>\n",
       "      <td>47.878788</td>\n",
       "    </tr>\n",
       "    <tr>\n",
       "      <th>3.0</th>\n",
       "      <td>27.272727</td>\n",
       "    </tr>\n",
       "    <tr>\n",
       "      <th>2.0</th>\n",
       "      <td>24.848485</td>\n",
       "    </tr>\n",
       "  </tbody>\n",
       "</table>\n",
       "</div>"
      ],
      "text/plain": [
       "          Income\n",
       "index           \n",
       "1.0    47.878788\n",
       "3.0    27.272727\n",
       "2.0    24.848485"
      ]
     },
     "execution_count": 179,
     "metadata": {},
     "output_type": "execute_result"
    }
   ],
   "source": [
    "Demo_Income = (Films.Income.value_counts()/(Films.shape[0])*100).reset_index().set_index('index')\n",
    "Demo_Income"
   ]
  },
  {
   "cell_type": "code",
   "execution_count": 200,
   "id": "4633a53b",
   "metadata": {},
   "outputs": [
    {
     "data": {
      "image/png": "[encoded data removed]",
      "text/plain": [
       "<Figure size 640x480 with 1 Axes>"
      ]
     },
     "metadata": {},
     "output_type": "display_data"
    }
   ],
   "source": [
    "plt.pie(Demo_Income.Income, labels = ['Less than $50,000','$100,000+','$50-$100,000'], autopct = '%1.2f%%', startangle = 90 )\n",
    "plt.show()"
   ]
  },
  {
   "cell_type": "markdown",
   "id": "14cd71a0",
   "metadata": {},
   "source": [
    "#### In what media outlet(s) should the film series be advertised?"
   ]
  },
  {
   "cell_type": "code",
   "execution_count": 231,
   "id": "207f27ef",
   "metadata": {},
   "outputs": [
    {
     "data": {
      "text/plain": [
       "5      233\n",
       "4       41\n",
       "1       22\n",
       "3       14\n",
       "2       12\n",
       "2,5      2\n",
       "3,4      2\n",
       "4,5      1\n",
       "1,5      1\n",
       "5,4      1\n",
       "3,5      1\n",
       "Name: Hear_About, dtype: int64"
      ]
     },
     "execution_count": 231,
     "metadata": {},
     "output_type": "execute_result"
    }
   ],
   "source": [
    "Films.Hear_About.value_counts()"
   ]
  },
  {
   "cell_type": "code",
   "execution_count": 233,
   "id": "0886c544",
   "metadata": {},
   "outputs": [
    {
     "data": {
      "text/plain": [
       "'5'"
      ]
     },
     "execution_count": 233,
     "metadata": {},
     "output_type": "execute_result"
    }
   ],
   "source": [
    "Films.Hear_About.value_counts().reset_index().iloc[0,0]"
   ]
  },
  {
   "cell_type": "markdown",
   "id": "340d75c7",
   "metadata": {},
   "source": [
    "##### We got 5, it means 'word of mouth' , so, the film series should be advertised by 'word of mouth'."
   ]
  },
  {
   "cell_type": "code",
   "execution_count": null,
   "id": "8bcf30b5",
   "metadata": {},
   "outputs": [],
   "source": []
  }
 ],
 "metadata": {
  "kernelspec": {
   "display_name": "Python 3 (ipykernel)",
   "language": "python",
   "name": "python3"
  },
  "language_info": {
   "codemirror_mode": {
    "name": "ipython",
    "version": 3
   },
   "file_extension": ".py",
   "mimetype": "text/x-python",
   "name": "python",
   "nbconvert_exporter": "python",
   "pygments_lexer": "ipython3",
   "version": "3.10.9"
  }
 },
 "nbformat": 4,
 "nbformat_minor": 5
}
